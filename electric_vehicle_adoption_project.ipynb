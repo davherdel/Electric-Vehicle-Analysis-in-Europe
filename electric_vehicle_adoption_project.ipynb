{
 "cells": [
  {
   "cell_type": "markdown",
   "id": "2b0ecb6b",
   "metadata": {},
   "source": [
    "## Data Analytics - Module 1 Project / Electric Vehicles Adoption in Europe\n",
    "#### David Hernandez - Data PT June 2025\n",
    "\n",
    "#### Introduction\n",
    "#### This project tracks electric vehicle growth in Europe, showing trends in adoption, charging infrastructure, energy consumption, and oil displacement, highlighting how EVs reduce fossil fuel use and support a cleaner transport sector.\n",
    "\n",
    "\n",
    "#### Data sources\n",
    "- Dataset: International Energy Agency dataset\n",
    "https://www.iea.org/data-and-statistics/data-product/global-ev-outlook-2025#global-ev-data "
   ]
  },
  {
   "cell_type": "code",
   "execution_count": null,
   "id": "9de2e5cd",
   "metadata": {},
   "outputs": [],
   "source": [
    "# Importing modules\n",
    "import pandas as pd # Data manipulation and analysis\n",
    "import plotly.express as px # Allows to create interactive plots, charts, graphs, maps, and more\n",
    "import plotly.graph_objects as go # More control over plots\n",
    "import matplotlib.pyplot as plt # Create visualizations\n",
    "import seaborn as sns # Statistical data visualization\n",
    "import ipywidgets as widgets # Interactive widgets for Jupyter notebooks\n",
    "from IPython.display import display # Display widgets in Jupyter notebooks\n"
   ]
  },
  {
   "cell_type": "code",
   "execution_count": 2,
   "id": "66b44c64",
   "metadata": {},
   "outputs": [
    {
     "data": {
      "text/html": [
       "<div>\n",
       "<style scoped>\n",
       "    .dataframe tbody tr th:only-of-type {\n",
       "        vertical-align: middle;\n",
       "    }\n",
       "\n",
       "    .dataframe tbody tr th {\n",
       "        vertical-align: top;\n",
       "    }\n",
       "\n",
       "    .dataframe thead th {\n",
       "        text-align: right;\n",
       "    }\n",
       "</style>\n",
       "<table border=\"1\" class=\"dataframe\">\n",
       "  <thead>\n",
       "    <tr style=\"text-align: right;\">\n",
       "      <th></th>\n",
       "      <th>region_country</th>\n",
       "      <th>category</th>\n",
       "      <th>parameter</th>\n",
       "      <th>mode</th>\n",
       "      <th>powertrain</th>\n",
       "      <th>year</th>\n",
       "      <th>unit</th>\n",
       "      <th>value</th>\n",
       "      <th>Aggregate group</th>\n",
       "    </tr>\n",
       "  </thead>\n",
       "  <tbody>\n",
       "    <tr>\n",
       "      <th>0</th>\n",
       "      <td>World</td>\n",
       "      <td>Projection-STEPS</td>\n",
       "      <td>EV stock</td>\n",
       "      <td>2 and 3 wheelers</td>\n",
       "      <td>BEV</td>\n",
       "      <td>2030</td>\n",
       "      <td>Vehicles</td>\n",
       "      <td>1.700000e+08</td>\n",
       "      <td>_World</td>\n",
       "    </tr>\n",
       "    <tr>\n",
       "      <th>1</th>\n",
       "      <td>World</td>\n",
       "      <td>Projection-STEPS</td>\n",
       "      <td>EV stock</td>\n",
       "      <td>Cars</td>\n",
       "      <td>BEV</td>\n",
       "      <td>2030</td>\n",
       "      <td>Vehicles</td>\n",
       "      <td>1.500000e+08</td>\n",
       "      <td>_World</td>\n",
       "    </tr>\n",
       "    <tr>\n",
       "      <th>2</th>\n",
       "      <td>China</td>\n",
       "      <td>Projection-STEPS</td>\n",
       "      <td>EV stock</td>\n",
       "      <td>2 and 3 wheelers</td>\n",
       "      <td>BEV</td>\n",
       "      <td>2030</td>\n",
       "      <td>Vehicles</td>\n",
       "      <td>9.100000e+07</td>\n",
       "      <td>Other</td>\n",
       "    </tr>\n",
       "    <tr>\n",
       "      <th>3</th>\n",
       "      <td>China</td>\n",
       "      <td>Projection-STEPS</td>\n",
       "      <td>EV stock</td>\n",
       "      <td>Cars</td>\n",
       "      <td>BEV</td>\n",
       "      <td>2030</td>\n",
       "      <td>Vehicles</td>\n",
       "      <td>8.200000e+07</td>\n",
       "      <td>Other</td>\n",
       "    </tr>\n",
       "    <tr>\n",
       "      <th>4</th>\n",
       "      <td>World</td>\n",
       "      <td>Projection-STEPS</td>\n",
       "      <td>EV stock</td>\n",
       "      <td>Cars</td>\n",
       "      <td>PHEV</td>\n",
       "      <td>2030</td>\n",
       "      <td>Vehicles</td>\n",
       "      <td>8.200000e+07</td>\n",
       "      <td>_World</td>\n",
       "    </tr>\n",
       "    <tr>\n",
       "      <th>...</th>\n",
       "      <td>...</td>\n",
       "      <td>...</td>\n",
       "      <td>...</td>\n",
       "      <td>...</td>\n",
       "      <td>...</td>\n",
       "      <td>...</td>\n",
       "      <td>...</td>\n",
       "      <td>...</td>\n",
       "      <td>...</td>\n",
       "    </tr>\n",
       "    <tr>\n",
       "      <th>16431</th>\n",
       "      <td>Rest of the world</td>\n",
       "      <td>Historical</td>\n",
       "      <td>Oil displacement Mbd</td>\n",
       "      <td>Trucks</td>\n",
       "      <td>EV</td>\n",
       "      <td>2017</td>\n",
       "      <td>Million barrels per day</td>\n",
       "      <td>2.400000e-06</td>\n",
       "      <td>Other</td>\n",
       "    </tr>\n",
       "    <tr>\n",
       "      <th>16432</th>\n",
       "      <td>Rest of the world</td>\n",
       "      <td>Historical</td>\n",
       "      <td>Oil displacement Mbd</td>\n",
       "      <td>2 and 3 wheelers</td>\n",
       "      <td>EV</td>\n",
       "      <td>2011</td>\n",
       "      <td>Million barrels per day</td>\n",
       "      <td>2.200000e-06</td>\n",
       "      <td>Other</td>\n",
       "    </tr>\n",
       "    <tr>\n",
       "      <th>16433</th>\n",
       "      <td>Rest of the world</td>\n",
       "      <td>Historical</td>\n",
       "      <td>Oil displacement Mbd</td>\n",
       "      <td>2 and 3 wheelers</td>\n",
       "      <td>EV</td>\n",
       "      <td>2010</td>\n",
       "      <td>Million barrels per day</td>\n",
       "      <td>1.700000e-06</td>\n",
       "      <td>Other</td>\n",
       "    </tr>\n",
       "    <tr>\n",
       "      <th>16434</th>\n",
       "      <td>USA</td>\n",
       "      <td>Historical</td>\n",
       "      <td>Oil displacement Mbd</td>\n",
       "      <td>2 and 3 wheelers</td>\n",
       "      <td>EV</td>\n",
       "      <td>2012</td>\n",
       "      <td>Million barrels per day</td>\n",
       "      <td>1.300000e-06</td>\n",
       "      <td>Other</td>\n",
       "    </tr>\n",
       "    <tr>\n",
       "      <th>16435</th>\n",
       "      <td>Rest of the world</td>\n",
       "      <td>Historical</td>\n",
       "      <td>Oil displacement Mbd</td>\n",
       "      <td>Trucks</td>\n",
       "      <td>EV</td>\n",
       "      <td>2012</td>\n",
       "      <td>Million barrels per day</td>\n",
       "      <td>1.200000e-06</td>\n",
       "      <td>Other</td>\n",
       "    </tr>\n",
       "  </tbody>\n",
       "</table>\n",
       "<p>16436 rows × 9 columns</p>\n",
       "</div>"
      ],
      "text/plain": [
       "          region_country          category             parameter  \\\n",
       "0                  World  Projection-STEPS              EV stock   \n",
       "1                  World  Projection-STEPS              EV stock   \n",
       "2                  China  Projection-STEPS              EV stock   \n",
       "3                  China  Projection-STEPS              EV stock   \n",
       "4                  World  Projection-STEPS              EV stock   \n",
       "...                  ...               ...                   ...   \n",
       "16431  Rest of the world        Historical  Oil displacement Mbd   \n",
       "16432  Rest of the world        Historical  Oil displacement Mbd   \n",
       "16433  Rest of the world        Historical  Oil displacement Mbd   \n",
       "16434                USA        Historical  Oil displacement Mbd   \n",
       "16435  Rest of the world        Historical  Oil displacement Mbd   \n",
       "\n",
       "                   mode powertrain  year                     unit  \\\n",
       "0      2 and 3 wheelers        BEV  2030                 Vehicles   \n",
       "1                  Cars        BEV  2030                 Vehicles   \n",
       "2      2 and 3 wheelers        BEV  2030                 Vehicles   \n",
       "3                  Cars        BEV  2030                 Vehicles   \n",
       "4                  Cars       PHEV  2030                 Vehicles   \n",
       "...                 ...        ...   ...                      ...   \n",
       "16431            Trucks         EV  2017  Million barrels per day   \n",
       "16432  2 and 3 wheelers         EV  2011  Million barrels per day   \n",
       "16433  2 and 3 wheelers         EV  2010  Million barrels per day   \n",
       "16434  2 and 3 wheelers         EV  2012  Million barrels per day   \n",
       "16435            Trucks         EV  2012  Million barrels per day   \n",
       "\n",
       "              value Aggregate group  \n",
       "0      1.700000e+08          _World  \n",
       "1      1.500000e+08          _World  \n",
       "2      9.100000e+07           Other  \n",
       "3      8.200000e+07           Other  \n",
       "4      8.200000e+07          _World  \n",
       "...             ...             ...  \n",
       "16431  2.400000e-06           Other  \n",
       "16432  2.200000e-06           Other  \n",
       "16433  1.700000e-06           Other  \n",
       "16434  1.300000e-06           Other  \n",
       "16435  1.200000e-06           Other  \n",
       "\n",
       "[16436 rows x 9 columns]"
      ]
     },
     "execution_count": 2,
     "metadata": {},
     "output_type": "execute_result"
    }
   ],
   "source": [
    "df = pd.read_excel(\"C:/Users/jdhernandezd/Documents/IRONHACK/Labs/Electric_Vehicles_Project/EV Data Explorer 2025.xlsx\")\n",
    "df"
   ]
  },
  {
   "cell_type": "code",
   "execution_count": 96,
   "id": "06944ccb",
   "metadata": {},
   "outputs": [
    {
     "name": "stdout",
     "output_type": "stream",
     "text": [
      "  region_country          category parameter              mode powertrain  \\\n",
      "0          World  Projection-STEPS  EV stock  2 and 3 wheelers        BEV   \n",
      "1          World  Projection-STEPS  EV stock              Cars        BEV   \n",
      "2          China  Projection-STEPS  EV stock  2 and 3 wheelers        BEV   \n",
      "3          China  Projection-STEPS  EV stock              Cars        BEV   \n",
      "4          World  Projection-STEPS  EV stock              Cars       PHEV   \n",
      "\n",
      "   year      unit        value Aggregate group  \n",
      "0  2030  Vehicles  170000000.0          _World  \n",
      "1  2030  Vehicles  150000000.0          _World  \n",
      "2  2030  Vehicles   91000000.0           Other  \n",
      "3  2030  Vehicles   82000000.0           Other  \n",
      "4  2030  Vehicles   82000000.0          _World  \n"
     ]
    }
   ],
   "source": [
    "print(df.head())"
   ]
  },
  {
   "cell_type": "code",
   "execution_count": 97,
   "id": "a2ceab71",
   "metadata": {},
   "outputs": [
    {
     "name": "stdout",
     "output_type": "stream",
     "text": [
      "          region_country    category             parameter              mode  \\\n",
      "16431  Rest of the world  Historical  Oil displacement Mbd            Trucks   \n",
      "16432  Rest of the world  Historical  Oil displacement Mbd  2 and 3 wheelers   \n",
      "16433  Rest of the world  Historical  Oil displacement Mbd  2 and 3 wheelers   \n",
      "16434                USA  Historical  Oil displacement Mbd  2 and 3 wheelers   \n",
      "16435  Rest of the world  Historical  Oil displacement Mbd            Trucks   \n",
      "\n",
      "      powertrain  year                     unit     value Aggregate group  \n",
      "16431         EV  2017  Million barrels per day  0.000002           Other  \n",
      "16432         EV  2011  Million barrels per day  0.000002           Other  \n",
      "16433         EV  2010  Million barrels per day  0.000002           Other  \n",
      "16434         EV  2012  Million barrels per day  0.000001           Other  \n",
      "16435         EV  2012  Million barrels per day  0.000001           Other  \n"
     ]
    }
   ],
   "source": [
    "print(df.tail())"
   ]
  },
  {
   "cell_type": "code",
   "execution_count": 98,
   "id": "f114ba6c",
   "metadata": {},
   "outputs": [
    {
     "name": "stdout",
     "output_type": "stream",
     "text": [
      "<class 'pandas.core.frame.DataFrame'>\n",
      "RangeIndex: 16436 entries, 0 to 16435\n",
      "Data columns (total 9 columns):\n",
      " #   Column           Non-Null Count  Dtype  \n",
      "---  ------           --------------  -----  \n",
      " 0   region_country   16436 non-null  object \n",
      " 1   category         16436 non-null  object \n",
      " 2   parameter        16436 non-null  object \n",
      " 3   mode             16436 non-null  object \n",
      " 4   powertrain       16436 non-null  object \n",
      " 5   year             16436 non-null  int32  \n",
      " 6   unit             16436 non-null  object \n",
      " 7   value            16436 non-null  float64\n",
      " 8   Aggregate group  16436 non-null  object \n",
      "dtypes: float64(1), int32(1), object(7)\n",
      "memory usage: 1.1+ MB\n",
      "None\n"
     ]
    }
   ],
   "source": [
    "print(df.info())"
   ]
  },
  {
   "cell_type": "code",
   "execution_count": 99,
   "id": "493d0db4",
   "metadata": {},
   "outputs": [
    {
     "name": "stdout",
     "output_type": "stream",
     "text": [
      "               year         value\n",
      "count  16436.000000  1.643600e+04\n",
      "mean    2018.852336  2.678267e+05\n",
      "std        4.271488  3.325613e+06\n",
      "min     2010.000000  1.200000e-06\n",
      "25%     2016.000000  1.000000e+00\n",
      "50%     2019.000000  4.900000e+01\n",
      "75%     2022.000000  2.500000e+03\n",
      "max     2030.000000  1.700000e+08\n"
     ]
    }
   ],
   "source": [
    "print(df.describe())"
   ]
  },
  {
   "cell_type": "code",
   "execution_count": 3,
   "id": "abd11be3",
   "metadata": {},
   "outputs": [
    {
     "data": {
      "text/html": [
       "<div>\n",
       "<style scoped>\n",
       "    .dataframe tbody tr th:only-of-type {\n",
       "        vertical-align: middle;\n",
       "    }\n",
       "\n",
       "    .dataframe tbody tr th {\n",
       "        vertical-align: top;\n",
       "    }\n",
       "\n",
       "    .dataframe thead th {\n",
       "        text-align: right;\n",
       "    }\n",
       "</style>\n",
       "<table border=\"1\" class=\"dataframe\">\n",
       "  <thead>\n",
       "    <tr style=\"text-align: right;\">\n",
       "      <th></th>\n",
       "      <th>region_country</th>\n",
       "      <th>category</th>\n",
       "      <th>parameter</th>\n",
       "      <th>mode</th>\n",
       "      <th>powertrain</th>\n",
       "      <th>year</th>\n",
       "      <th>unit</th>\n",
       "      <th>value</th>\n",
       "      <th>Aggregate group</th>\n",
       "    </tr>\n",
       "  </thead>\n",
       "  <tbody>\n",
       "    <tr>\n",
       "      <th>0</th>\n",
       "      <td>False</td>\n",
       "      <td>False</td>\n",
       "      <td>False</td>\n",
       "      <td>False</td>\n",
       "      <td>False</td>\n",
       "      <td>False</td>\n",
       "      <td>False</td>\n",
       "      <td>False</td>\n",
       "      <td>False</td>\n",
       "    </tr>\n",
       "    <tr>\n",
       "      <th>1</th>\n",
       "      <td>False</td>\n",
       "      <td>False</td>\n",
       "      <td>False</td>\n",
       "      <td>False</td>\n",
       "      <td>False</td>\n",
       "      <td>False</td>\n",
       "      <td>False</td>\n",
       "      <td>False</td>\n",
       "      <td>False</td>\n",
       "    </tr>\n",
       "    <tr>\n",
       "      <th>2</th>\n",
       "      <td>False</td>\n",
       "      <td>False</td>\n",
       "      <td>False</td>\n",
       "      <td>False</td>\n",
       "      <td>False</td>\n",
       "      <td>False</td>\n",
       "      <td>False</td>\n",
       "      <td>False</td>\n",
       "      <td>False</td>\n",
       "    </tr>\n",
       "    <tr>\n",
       "      <th>3</th>\n",
       "      <td>False</td>\n",
       "      <td>False</td>\n",
       "      <td>False</td>\n",
       "      <td>False</td>\n",
       "      <td>False</td>\n",
       "      <td>False</td>\n",
       "      <td>False</td>\n",
       "      <td>False</td>\n",
       "      <td>False</td>\n",
       "    </tr>\n",
       "    <tr>\n",
       "      <th>4</th>\n",
       "      <td>False</td>\n",
       "      <td>False</td>\n",
       "      <td>False</td>\n",
       "      <td>False</td>\n",
       "      <td>False</td>\n",
       "      <td>False</td>\n",
       "      <td>False</td>\n",
       "      <td>False</td>\n",
       "      <td>False</td>\n",
       "    </tr>\n",
       "    <tr>\n",
       "      <th>...</th>\n",
       "      <td>...</td>\n",
       "      <td>...</td>\n",
       "      <td>...</td>\n",
       "      <td>...</td>\n",
       "      <td>...</td>\n",
       "      <td>...</td>\n",
       "      <td>...</td>\n",
       "      <td>...</td>\n",
       "      <td>...</td>\n",
       "    </tr>\n",
       "    <tr>\n",
       "      <th>16431</th>\n",
       "      <td>False</td>\n",
       "      <td>False</td>\n",
       "      <td>False</td>\n",
       "      <td>False</td>\n",
       "      <td>False</td>\n",
       "      <td>False</td>\n",
       "      <td>False</td>\n",
       "      <td>False</td>\n",
       "      <td>False</td>\n",
       "    </tr>\n",
       "    <tr>\n",
       "      <th>16432</th>\n",
       "      <td>False</td>\n",
       "      <td>False</td>\n",
       "      <td>False</td>\n",
       "      <td>False</td>\n",
       "      <td>False</td>\n",
       "      <td>False</td>\n",
       "      <td>False</td>\n",
       "      <td>False</td>\n",
       "      <td>False</td>\n",
       "    </tr>\n",
       "    <tr>\n",
       "      <th>16433</th>\n",
       "      <td>False</td>\n",
       "      <td>False</td>\n",
       "      <td>False</td>\n",
       "      <td>False</td>\n",
       "      <td>False</td>\n",
       "      <td>False</td>\n",
       "      <td>False</td>\n",
       "      <td>False</td>\n",
       "      <td>False</td>\n",
       "    </tr>\n",
       "    <tr>\n",
       "      <th>16434</th>\n",
       "      <td>False</td>\n",
       "      <td>False</td>\n",
       "      <td>False</td>\n",
       "      <td>False</td>\n",
       "      <td>False</td>\n",
       "      <td>False</td>\n",
       "      <td>False</td>\n",
       "      <td>False</td>\n",
       "      <td>False</td>\n",
       "    </tr>\n",
       "    <tr>\n",
       "      <th>16435</th>\n",
       "      <td>False</td>\n",
       "      <td>False</td>\n",
       "      <td>False</td>\n",
       "      <td>False</td>\n",
       "      <td>False</td>\n",
       "      <td>False</td>\n",
       "      <td>False</td>\n",
       "      <td>False</td>\n",
       "      <td>False</td>\n",
       "    </tr>\n",
       "  </tbody>\n",
       "</table>\n",
       "<p>16436 rows × 9 columns</p>\n",
       "</div>"
      ],
      "text/plain": [
       "       region_country  category  parameter   mode  powertrain   year   unit  \\\n",
       "0               False     False      False  False       False  False  False   \n",
       "1               False     False      False  False       False  False  False   \n",
       "2               False     False      False  False       False  False  False   \n",
       "3               False     False      False  False       False  False  False   \n",
       "4               False     False      False  False       False  False  False   \n",
       "...               ...       ...        ...    ...         ...    ...    ...   \n",
       "16431           False     False      False  False       False  False  False   \n",
       "16432           False     False      False  False       False  False  False   \n",
       "16433           False     False      False  False       False  False  False   \n",
       "16434           False     False      False  False       False  False  False   \n",
       "16435           False     False      False  False       False  False  False   \n",
       "\n",
       "       value  Aggregate group  \n",
       "0      False            False  \n",
       "1      False            False  \n",
       "2      False            False  \n",
       "3      False            False  \n",
       "4      False            False  \n",
       "...      ...              ...  \n",
       "16431  False            False  \n",
       "16432  False            False  \n",
       "16433  False            False  \n",
       "16434  False            False  \n",
       "16435  False            False  \n",
       "\n",
       "[16436 rows x 9 columns]"
      ]
     },
     "execution_count": 3,
     "metadata": {},
     "output_type": "execute_result"
    }
   ],
   "source": [
    "# Checking for missing values\n",
    "df.isnull()"
   ]
  },
  {
   "cell_type": "code",
   "execution_count": 4,
   "id": "984a1029",
   "metadata": {},
   "outputs": [
    {
     "data": {
      "text/plain": [
       "array(['Vehicles', 'charging points', 'GWh',\n",
       "       'Oil displacement, million lge', 'percent',\n",
       "       'Million barrels per day'], dtype=object)"
      ]
     },
     "execution_count": 4,
     "metadata": {},
     "output_type": "execute_result"
    }
   ],
   "source": [
    "# Searching for type of vehicle\n",
    "(df['unit'].unique())"
   ]
  },
  {
   "cell_type": "code",
   "execution_count": 5,
   "id": "0fa7a02b",
   "metadata": {},
   "outputs": [
    {
     "data": {
      "text/plain": [
       "array(['World', 'China', 'Asia Pacific', 'India', 'Europe',\n",
       "       'Rest of the world', 'USA', 'EU27', 'North America', 'Germany',\n",
       "       'Viet Nam', 'United Kingdom', 'France', 'Norway', 'Canada',\n",
       "       'Netherlands', 'Central and South America', 'Korea', 'Indonesia',\n",
       "       'Sweden', 'Belgium', 'Denmark', 'Japan', 'Italy', 'Australia',\n",
       "       'Turkiye', 'Spain', 'Switzerland', 'Austria', 'Israel', 'Thailand',\n",
       "       'Finland', 'Portugal', 'Brazil', 'New Zealand',\n",
       "       'Middle East and Caspian', 'Poland', 'Mexico', 'Malaysia',\n",
       "       'Russia', 'Iceland', 'Greece', 'Uzbekistan', 'Africa', 'Ireland',\n",
       "       'Chile', 'Costa Rica', 'Colombia', 'Romania', 'Luxembourg',\n",
       "       'Czech Republic', 'Hungary', 'Slovenia', 'South Africa',\n",
       "       'Slovakia', 'Lithuania', 'Bulgaria', 'Croatia', 'Latvia',\n",
       "       'Estonia', 'Cyprus', 'Jordan', 'Seychelles'], dtype=object)"
      ]
     },
     "execution_count": 5,
     "metadata": {},
     "output_type": "execute_result"
    }
   ],
   "source": [
    "# Checking for regions and countries\n",
    "(df['region_country'].unique())"
   ]
  },
  {
   "cell_type": "code",
   "execution_count": 6,
   "id": "2c239e21",
   "metadata": {},
   "outputs": [
    {
     "data": {
      "text/plain": [
       "1106"
      ]
     },
     "execution_count": 6,
     "metadata": {},
     "output_type": "execute_result"
    }
   ],
   "source": [
    "# \"Europe\" is going to be used as a filter further in the analysis\n",
    "df[df['region_country'] == 'Europe']['value'].count()"
   ]
  },
  {
   "cell_type": "code",
   "execution_count": 7,
   "id": "971ff76f",
   "metadata": {},
   "outputs": [
    {
     "data": {
      "text/plain": [
       "('Last year:', 2030)"
      ]
     },
     "execution_count": 7,
     "metadata": {},
     "output_type": "execute_result"
    }
   ],
   "source": [
    "first_year = df['year'].min()\n",
    "last_year = df['year'].max()\n",
    "\n",
    "(\"First year:\", first_year)\n",
    "(\"Last year:\", last_year)"
   ]
  },
  {
   "cell_type": "code",
   "execution_count": 8,
   "id": "af3d9cd7",
   "metadata": {},
   "outputs": [
    {
     "name": "stdout",
     "output_type": "stream",
     "text": [
      "[2010, 2011, 2012, 2013, 2014, 2015, 2016, 2017, 2018, 2019, 2020, 2021, 2022, 2023, 2024, 2030]\n"
     ]
    }
   ],
   "source": [
    "# Year 2030 will be used as a filter further in the analysis\n",
    "print(sorted(df['year'].unique()))\n"
   ]
  },
  {
   "cell_type": "code",
   "execution_count": 9,
   "id": "9c8dc970",
   "metadata": {},
   "outputs": [
    {
     "data": {
      "text/html": [
       "<div>\n",
       "<style scoped>\n",
       "    .dataframe tbody tr th:only-of-type {\n",
       "        vertical-align: middle;\n",
       "    }\n",
       "\n",
       "    .dataframe tbody tr th {\n",
       "        vertical-align: top;\n",
       "    }\n",
       "\n",
       "    .dataframe thead th {\n",
       "        text-align: right;\n",
       "    }\n",
       "</style>\n",
       "<table border=\"1\" class=\"dataframe\">\n",
       "  <thead>\n",
       "    <tr style=\"text-align: right;\">\n",
       "      <th></th>\n",
       "      <th>region_country</th>\n",
       "      <th>category</th>\n",
       "      <th>parameter</th>\n",
       "      <th>mode</th>\n",
       "      <th>powertrain</th>\n",
       "      <th>year</th>\n",
       "      <th>unit</th>\n",
       "      <th>value</th>\n",
       "      <th>Aggregate group</th>\n",
       "    </tr>\n",
       "  </thead>\n",
       "  <tbody>\n",
       "    <tr>\n",
       "      <th>0</th>\n",
       "      <td>World</td>\n",
       "      <td>Projection-STEPS</td>\n",
       "      <td>EV stock</td>\n",
       "      <td>2 and 3 wheelers</td>\n",
       "      <td>BEV</td>\n",
       "      <td>2030</td>\n",
       "      <td>Vehicles</td>\n",
       "      <td>1.700000e+08</td>\n",
       "      <td>_World</td>\n",
       "    </tr>\n",
       "    <tr>\n",
       "      <th>1</th>\n",
       "      <td>World</td>\n",
       "      <td>Projection-STEPS</td>\n",
       "      <td>EV stock</td>\n",
       "      <td>Cars</td>\n",
       "      <td>BEV</td>\n",
       "      <td>2030</td>\n",
       "      <td>Vehicles</td>\n",
       "      <td>1.500000e+08</td>\n",
       "      <td>_World</td>\n",
       "    </tr>\n",
       "    <tr>\n",
       "      <th>2</th>\n",
       "      <td>China</td>\n",
       "      <td>Projection-STEPS</td>\n",
       "      <td>EV stock</td>\n",
       "      <td>2 and 3 wheelers</td>\n",
       "      <td>BEV</td>\n",
       "      <td>2030</td>\n",
       "      <td>Vehicles</td>\n",
       "      <td>9.100000e+07</td>\n",
       "      <td>Other</td>\n",
       "    </tr>\n",
       "    <tr>\n",
       "      <th>3</th>\n",
       "      <td>China</td>\n",
       "      <td>Projection-STEPS</td>\n",
       "      <td>EV stock</td>\n",
       "      <td>Cars</td>\n",
       "      <td>BEV</td>\n",
       "      <td>2030</td>\n",
       "      <td>Vehicles</td>\n",
       "      <td>8.200000e+07</td>\n",
       "      <td>Other</td>\n",
       "    </tr>\n",
       "    <tr>\n",
       "      <th>4</th>\n",
       "      <td>World</td>\n",
       "      <td>Projection-STEPS</td>\n",
       "      <td>EV stock</td>\n",
       "      <td>Cars</td>\n",
       "      <td>PHEV</td>\n",
       "      <td>2030</td>\n",
       "      <td>Vehicles</td>\n",
       "      <td>8.200000e+07</td>\n",
       "      <td>_World</td>\n",
       "    </tr>\n",
       "    <tr>\n",
       "      <th>...</th>\n",
       "      <td>...</td>\n",
       "      <td>...</td>\n",
       "      <td>...</td>\n",
       "      <td>...</td>\n",
       "      <td>...</td>\n",
       "      <td>...</td>\n",
       "      <td>...</td>\n",
       "      <td>...</td>\n",
       "      <td>...</td>\n",
       "    </tr>\n",
       "    <tr>\n",
       "      <th>15531</th>\n",
       "      <td>Europe</td>\n",
       "      <td>Projection-STEPS</td>\n",
       "      <td>Oil displacement Mbd</td>\n",
       "      <td>2 and 3 wheelers</td>\n",
       "      <td>EV</td>\n",
       "      <td>2030</td>\n",
       "      <td>Million barrels per day</td>\n",
       "      <td>7.000000e-03</td>\n",
       "      <td>Aggregate_sales_stock</td>\n",
       "    </tr>\n",
       "    <tr>\n",
       "      <th>15532</th>\n",
       "      <td>USA</td>\n",
       "      <td>Projection-STEPS</td>\n",
       "      <td>Oil displacement Mbd</td>\n",
       "      <td>Buses</td>\n",
       "      <td>EV</td>\n",
       "      <td>2030</td>\n",
       "      <td>Million barrels per day</td>\n",
       "      <td>7.000000e-03</td>\n",
       "      <td>Other</td>\n",
       "    </tr>\n",
       "    <tr>\n",
       "      <th>15706</th>\n",
       "      <td>India</td>\n",
       "      <td>Projection-STEPS</td>\n",
       "      <td>Oil displacement Mbd</td>\n",
       "      <td>Trucks</td>\n",
       "      <td>EV</td>\n",
       "      <td>2030</td>\n",
       "      <td>Million barrels per day</td>\n",
       "      <td>3.900000e-03</td>\n",
       "      <td>Other</td>\n",
       "    </tr>\n",
       "    <tr>\n",
       "      <th>15707</th>\n",
       "      <td>India</td>\n",
       "      <td>Projection-STEPS</td>\n",
       "      <td>Oil displacement Mbd</td>\n",
       "      <td>Trucks</td>\n",
       "      <td>EV</td>\n",
       "      <td>2030</td>\n",
       "      <td>Million barrels per day</td>\n",
       "      <td>3.900000e-03</td>\n",
       "      <td>Other</td>\n",
       "    </tr>\n",
       "    <tr>\n",
       "      <th>16199</th>\n",
       "      <td>USA</td>\n",
       "      <td>Projection-STEPS</td>\n",
       "      <td>Oil displacement Mbd</td>\n",
       "      <td>2 and 3 wheelers</td>\n",
       "      <td>EV</td>\n",
       "      <td>2030</td>\n",
       "      <td>Million barrels per day</td>\n",
       "      <td>3.500000e-04</td>\n",
       "      <td>Other</td>\n",
       "    </tr>\n",
       "  </tbody>\n",
       "</table>\n",
       "<p>346 rows × 9 columns</p>\n",
       "</div>"
      ],
      "text/plain": [
       "      region_country          category             parameter  \\\n",
       "0              World  Projection-STEPS              EV stock   \n",
       "1              World  Projection-STEPS              EV stock   \n",
       "2              China  Projection-STEPS              EV stock   \n",
       "3              China  Projection-STEPS              EV stock   \n",
       "4              World  Projection-STEPS              EV stock   \n",
       "...              ...               ...                   ...   \n",
       "15531         Europe  Projection-STEPS  Oil displacement Mbd   \n",
       "15532            USA  Projection-STEPS  Oil displacement Mbd   \n",
       "15706          India  Projection-STEPS  Oil displacement Mbd   \n",
       "15707          India  Projection-STEPS  Oil displacement Mbd   \n",
       "16199            USA  Projection-STEPS  Oil displacement Mbd   \n",
       "\n",
       "                   mode powertrain  year                     unit  \\\n",
       "0      2 and 3 wheelers        BEV  2030                 Vehicles   \n",
       "1                  Cars        BEV  2030                 Vehicles   \n",
       "2      2 and 3 wheelers        BEV  2030                 Vehicles   \n",
       "3                  Cars        BEV  2030                 Vehicles   \n",
       "4                  Cars       PHEV  2030                 Vehicles   \n",
       "...                 ...        ...   ...                      ...   \n",
       "15531  2 and 3 wheelers         EV  2030  Million barrels per day   \n",
       "15532             Buses         EV  2030  Million barrels per day   \n",
       "15706            Trucks         EV  2030  Million barrels per day   \n",
       "15707            Trucks         EV  2030  Million barrels per day   \n",
       "16199  2 and 3 wheelers         EV  2030  Million barrels per day   \n",
       "\n",
       "              value        Aggregate group  \n",
       "0      1.700000e+08                 _World  \n",
       "1      1.500000e+08                 _World  \n",
       "2      9.100000e+07                  Other  \n",
       "3      8.200000e+07                  Other  \n",
       "4      8.200000e+07                 _World  \n",
       "...             ...                    ...  \n",
       "15531  7.000000e-03  Aggregate_sales_stock  \n",
       "15532  7.000000e-03                  Other  \n",
       "15706  3.900000e-03                  Other  \n",
       "15707  3.900000e-03                  Other  \n",
       "16199  3.500000e-04                  Other  \n",
       "\n",
       "[346 rows x 9 columns]"
      ]
     },
     "execution_count": 9,
     "metadata": {},
     "output_type": "execute_result"
    }
   ],
   "source": [
    "# The year 2030 comes up a total of 346 times in the dataset.\n",
    "df['year'] = df['year'].astype(int) \n",
    "\n",
    "df_hist = df[df['year'] <= 2024]\n",
    "df_proj = df[df['year'] > 2024]\n",
    "\n",
    "df_proj\n"
   ]
  },
  {
   "cell_type": "code",
   "execution_count": 10,
   "id": "8d9e992b",
   "metadata": {},
   "outputs": [
    {
     "name": "stdout",
     "output_type": "stream",
     "text": [
      "year             2010    2011    2012    2013     2014     2015     2016  \\\n",
      "region_country                                                             \n",
      "Austria           0.0     0.0     0.0   650.0   1700.0   1700.0   3800.0   \n",
      "Belgium          48.0   280.0   570.0   500.0   1300.0   1400.0   2100.0   \n",
      "Bulgaria          0.0     0.0     0.0     0.0      0.0     21.0      5.0   \n",
      "Croatia           0.0     0.0     0.0     0.0      0.0      0.0      0.0   \n",
      "Cyprus            0.0     0.0     0.0     0.0      0.0      0.0      0.0   \n",
      "Czech Republic    0.0     0.0     0.0     0.0      0.0    300.0    200.0   \n",
      "Denmark           0.0   420.0   490.0   500.0   1600.0   4300.0   1300.0   \n",
      "Estonia           0.0     0.0     0.0     0.0      0.0     34.0     35.0   \n",
      "Finland           0.0    30.0    51.0    50.0    180.0    240.0    220.0   \n",
      "France          190.0  2600.0  5700.0  8900.0  11000.0  18000.0  23000.0   \n",
      "Germany         140.0  1400.0  2200.0  5200.0   9100.0  12000.0  11000.0   \n",
      "Greece            0.0     0.0     0.0     3.0     39.0     35.0     41.0   \n",
      "Hungary           0.0     0.0     0.0     0.0      0.0    120.0    170.0   \n",
      "Ireland           0.0     0.0     0.0     0.0      0.0    470.0    390.0   \n",
      "Italy            40.0   110.0   460.0   860.0   1000.0   1500.0   1400.0   \n",
      "Latvia            0.0     0.0     0.0     0.0      0.0     17.0     22.0   \n",
      "Lithuania         0.0     0.0     0.0     0.0      0.0     37.0     64.0   \n",
      "Luxembourg        0.0     0.0     0.0     0.0      0.0      0.0      0.0   \n",
      "Netherlands     120.0   860.0   790.0  2600.0   2700.0   3400.0   4000.0   \n",
      "Norway          360.0  2000.0  3900.0  7900.0  20000.0  26000.0  24000.0   \n",
      "Poland           15.0    43.0    44.0    31.0    140.0     70.0    110.0   \n",
      "Portugal         13.0   170.0    54.0   150.0    190.0    670.0    800.0   \n",
      "Romania           0.0     0.0     0.0     0.0      0.0     24.0     74.0   \n",
      "Slovakia          0.0     0.0     0.0     0.0      0.0     52.0     59.0   \n",
      "Slovenia          0.0     0.0     0.0     0.0      0.0      0.0    140.0   \n",
      "Spain            76.0   390.0   430.0   810.0   1400.0   1300.0   2000.0   \n",
      "Sweden            4.0   180.0   270.0   430.0   1200.0   3000.0   2900.0   \n",
      "Switzerland       0.0   400.0   340.0  1200.0   2700.0   3300.0   3300.0   \n",
      "United Kingdom  240.0  1200.0  1600.0  2600.0   6700.0  10000.0  10000.0   \n",
      "\n",
      "year               2017     2018     2019      2020      2021      2022  \\\n",
      "region_country                                                            \n",
      "Austria          5400.0   6800.0   9300.0   16000.0   33000.0   34000.0   \n",
      "Belgium          2700.0   3600.0   8800.0   15000.0   23000.0   38000.0   \n",
      "Bulgaria           68.0    190.0    180.0     140.0     430.0    1000.0   \n",
      "Croatia             0.0      0.0    190.0     530.0    1400.0    1400.0   \n",
      "Cyprus              0.0      0.0     23.0      42.0      84.0     400.0   \n",
      "Czech Republic    390.0    700.0    760.0    3300.0    2700.0    3900.0   \n",
      "Denmark           710.0   1500.0   5500.0   14000.0   25000.0   31000.0   \n",
      "Estonia            26.0     85.0     80.0     340.0     480.0     730.0   \n",
      "Finland           500.0    780.0   1900.0    4200.0   10000.0   15000.0   \n",
      "France          26000.0  33000.0  45000.0  110000.0  170000.0  210000.0   \n",
      "Germany         25000.0  36000.0  63000.0  190000.0  360000.0  470000.0   \n",
      "Greece             50.0     88.0    190.0     680.0    2200.0    2800.0   \n",
      "Hungary           750.0   1300.0   1800.0    3000.0    4300.0    4700.0   \n",
      "Ireland           620.0   1200.0   3400.0    4000.0    8600.0   16000.0   \n",
      "Italy            2000.0   5000.0  11000.0   33000.0   67000.0   49000.0   \n",
      "Latvia             22.0     73.0     86.0     310.0     410.0    1100.0   \n",
      "Lithuania          52.0    140.0    160.0     450.0    1200.0    1400.0   \n",
      "Luxembourg          0.0      0.0    990.0    2500.0    4600.0    6400.0   \n",
      "Netherlands      8000.0  24000.0  61000.0   72000.0   63000.0   73000.0   \n",
      "Norway          33000.0  46000.0  60000.0   77000.0  110000.0  140000.0   \n",
      "Poland            440.0    620.0   1500.0    3700.0    7200.0   14000.0   \n",
      "Portugal         1900.0   4300.0   6800.0    7800.0   13000.0   18000.0   \n",
      "Romania           190.0    600.0   1500.0    2800.0    6300.0   12000.0   \n",
      "Slovakia          210.0    290.0    160.0     920.0    1100.0    1400.0   \n",
      "Slovenia          290.0    470.0    190.0    1600.0    1700.0    2300.0   \n",
      "Spain            3900.0   6000.0  10000.0   18000.0   24000.0   33000.0   \n",
      "Sweden           4400.0   7100.0  16000.0   28000.0   57000.0   96000.0   \n",
      "Switzerland      4800.0   5100.0  13000.0   20000.0   32000.0   40000.0   \n",
      "United Kingdom  14000.0  16000.0  38000.0  110000.0  190000.0  270000.0   \n",
      "\n",
      "year                2023      2024      Total  \n",
      "region_country                                 \n",
      "Austria          48000.0   45000.0   205350.0  \n",
      "Belgium          93000.0  130000.0   320298.0  \n",
      "Bulgaria          1800.0    1700.0     5534.0  \n",
      "Croatia           1600.0    1800.0     6920.0  \n",
      "Cyprus             790.0    1200.0     2539.0  \n",
      "Czech Republic    6700.0   11000.0    29950.0  \n",
      "Denmark          63000.0   89000.0   238320.0  \n",
      "Estonia           1400.0    1300.0     4510.0  \n",
      "Finland          30000.0   22000.0    85151.0  \n",
      "France          310000.0  300000.0  1273390.0  \n",
      "Germany         520000.0  380000.0  2085040.0  \n",
      "Greece            7000.0    8700.0    21826.0  \n",
      "Hungary           5800.0    8600.0    30540.0  \n",
      "Ireland          23000.0   17000.0    74680.0  \n",
      "Italy            66000.0   66000.0   304370.0  \n",
      "Latvia            1700.0    1300.0     5040.0  \n",
      "Lithuania         2100.0    1800.0     7403.0  \n",
      "Luxembourg       11000.0   13000.0    38490.0  \n",
      "Netherlands     110000.0  130000.0   555470.0  \n",
      "Norway          100000.0  110000.0   760160.0  \n",
      "Poland           17000.0   17000.0    61913.0  \n",
      "Portugal         36000.0   42000.0   131847.0  \n",
      "Romania          15000.0    9800.0    48288.0  \n",
      "Slovakia          2300.0    2200.0     8691.0  \n",
      "Slovenia          4300.0    3100.0    14090.0  \n",
      "Spain            57000.0   62000.0   220306.0  \n",
      "Sweden          110000.0   94000.0   420484.0  \n",
      "Switzerland      53000.0   46000.0   225140.0  \n",
      "United Kingdom  310000.0  380000.0  1360340.0  \n"
     ]
    }
   ],
   "source": [
    "# Creating a list of European countries to filter the dataset\n",
    "Europe = [\n",
    "    'Austria', 'Belgium', 'Bulgaria', 'Croatia', 'Cyprus', 'Czech Republic', \n",
    "    'Denmark', 'Estonia', 'Finland', 'France', 'Germany', 'Greece', 'Hungary',\n",
    "    'Ireland', 'Italy', 'Latvia', 'Lithuania', 'Luxembourg', 'Malta', \n",
    "    'Netherlands', 'Poland', 'Portugal', 'Romania', 'Slovakia', 'Slovenia',\n",
    "    'Spain', 'Sweden', 'Norway', 'Switzerland', 'United Kingdom'\n",
    "]\n",
    "\n",
    "# Applying filters to the DataFrame\n",
    "df_europe = df[\n",
    "    (df['parameter'].str.lower() == 'ev sales') &\n",
    "    (df['category'] == 'Historical') &\n",
    "    (df['powertrain'] == 'BEV') &\n",
    "    (df['mode'] == 'Cars') &\n",
    "    (df['region_country'].isin(Europe))\n",
    "]\n",
    "\n",
    "# Adding years as columns\n",
    "pivot_df = df_europe.pivot_table(\n",
    "    index='region_country',\n",
    "    columns='year',\n",
    "    values='value',\n",
    "    aggfunc='sum',\n",
    "    fill_value=0\n",
    ")\n",
    "\n",
    "# Adding years from 2010 to 2024\n",
    "all_years = list(range(2010, 2025))\n",
    "for year in all_years:\n",
    "    if year not in pivot_df.columns:\n",
    "        pivot_df[year] = 0\n",
    "\n",
    "# Ordering columns from 2010 to 2024\n",
    "pivot_df = pivot_df[all_years]\n",
    "\n",
    "# Adding Total column\n",
    "pivot_df['Total'] = pivot_df.sum(axis=1)\n",
    "\n",
    "# Printing the pivot table\n",
    "print(pivot_df)\n"
   ]
  },
  {
   "cell_type": "code",
   "execution_count": 11,
   "id": "c9d516b7",
   "metadata": {},
   "outputs": [
    {
     "name": "stderr",
     "output_type": "stream",
     "text": [
      "C:\\Users\\jdhernandezd\\AppData\\Local\\Temp\\ipykernel_6140\\2943398723.py:7: FutureWarning: \n",
      "\n",
      "Passing `palette` without assigning `hue` is deprecated and will be removed in v0.14.0. Assign the `x` variable to `hue` and set `legend=False` for the same effect.\n",
      "\n",
      "  sns.barplot(\n"
     ]
    },
    {
     "data": {
      "image/png": "[encoded data removed]",
      "text/plain": [
       "<Figure size 1400x600 with 1 Axes>"
      ]
     },
     "metadata": {},
     "output_type": "display_data"
    }
   ],
   "source": [
    "import matplotlib.pyplot as plt # Create visualizations\n",
    "import seaborn as sns # Statistical data visualization\n",
    "\n",
    "plt.figure(figsize=(14, 6))\n",
    "pivot_df_sorted = pivot_df.sort_values('Total', ascending=False)\n",
    "\n",
    "sns.barplot(\n",
    "    x=pivot_df_sorted.index,\n",
    "    y=pivot_df_sorted['Total'],\n",
    "    palette=\"viridis\"\n",
    ")\n",
    "\n",
    "# Dynamic label positions\n",
    "for i, v in enumerate(pivot_df_sorted['Total']):\n",
    "    # Offset: 3% of the value above the bar\n",
    "    offset = v * 0.03 if v > 0 else 50\n",
    "    plt.text(i, v + offset, f\"{int(v):,}\", ha='center', va='bottom', fontsize=10)\n",
    "\n",
    "plt.xticks(rotation=90)\n",
    "plt.ylabel(\"Total EV Sales (2010-2024)\")\n",
    "plt.title(\"Total EVs in Circulation per European Country\", fontsize=16)\n",
    "plt.tight_layout()\n",
    "plt.show()\n"
   ]
  },
  {
   "cell_type": "code",
   "execution_count": 12,
   "id": "cdbf40ad",
   "metadata": {},
   "outputs": [
    {
     "name": "stderr",
     "output_type": "stream",
     "text": [
      "C:\\Users\\jdhernandezd\\AppData\\Local\\Temp\\ipykernel_6140\\3301856439.py:12: FutureWarning: \n",
      "\n",
      "Passing `palette` without assigning `hue` is deprecated and will be removed in v0.14.0. Assign the `x` variable to `hue` and set `legend=False` for the same effect.\n",
      "\n",
      "  sns.barplot(\n"
     ]
    },
    {
     "data": {
      "image/png": "[encoded data removed]",
      "text/plain": [
       "<Figure size 1200x600 with 1 Axes>"
      ]
     },
     "metadata": {},
     "output_type": "display_data"
    }
   ],
   "source": [
    "# Focusing on Top 10\n",
    "\n",
    "import matplotlib.pyplot as plt\n",
    "import seaborn as sns\n",
    "\n",
    "plt.figure(figsize=(12, 6))\n",
    "\n",
    "# Sort countries by total EV sales (descending) and select Top 10\n",
    "pivot_df_sorted = pivot_df.sort_values('Total', ascending=False).head(10)\n",
    "\n",
    "# Create bar plot\n",
    "sns.barplot(\n",
    "    x=pivot_df_sorted.index,\n",
    "    y=pivot_df_sorted['Total'],\n",
    "    palette=\"viridis\"\n",
    ")\n",
    "\n",
    "# Dynamic label positions\n",
    "for i, v in enumerate(pivot_df_sorted['Total']):\n",
    "    offset = v * 0.03 if v > 0 else 50\n",
    "    plt.text(i, v + offset, f\"{int(v):,}\", ha='center', va='bottom', fontsize=10)\n",
    "\n",
    "plt.xticks(rotation=45)\n",
    "plt.ylabel(\"Total EV Sales (2010-2024)\")\n",
    "plt.title(\"Top 10 European Countries by EV Circulation\", fontsize=16)\n",
    "plt.tight_layout()\n",
    "plt.show()\n"
   ]
  },
  {
   "cell_type": "code",
   "execution_count": 13,
   "id": "7b2ca23f",
   "metadata": {},
   "outputs": [],
   "source": [
    "# Creating a DataFrame for Germany after several other errors in the previous code\n",
    "df_germany = df_europe[\n",
    "    (df_europe['parameter'] == 'EV sales') &   # lowercase 's'\n",
    "    (df_europe['category'] == 'Historical') &\n",
    "    (df_europe['powertrain'] == 'BEV') &\n",
    "    (df_europe['mode'] == 'Cars') &\n",
    "    (df_europe['region_country'] == 'Germany')\n",
    "]"
   ]
  },
  {
   "cell_type": "code",
   "execution_count": 25,
   "id": "7bbe62bd",
   "metadata": {},
   "outputs": [
    {
     "data": {
      "image/png": "[encoded data removed]",
      "text/plain": [
       "<Figure size 1200x600 with 1 Axes>"
      ]
     },
     "metadata": {},
     "output_type": "display_data"
    }
   ],
   "source": [
    "# Bar chart with data labels (purple bars, better spacing)\n",
    "plt.figure(figsize=(12, 6))\n",
    "years = list(range(2010, 2025))\n",
    "values = pivot_germany.loc['Germany', years]\n",
    "\n",
    "# Barplot with purple color\n",
    "sns.barplot(x=years, y=values, color='#6a0dad')  # purple hex\n",
    "\n",
    "# Add data labels on top of bars\n",
    "for x, y in zip(range(len(years)), values):\n",
    "    plt.text(x, y + max(values)*0.01, f\"{int(y):,}\", \n",
    "             ha='center', va='bottom', fontsize=9, rotation=90)\n",
    "\n",
    "# Labels and title\n",
    "plt.ylabel(\"EVs in circulation\")\n",
    "plt.xlabel(\"Year\")\n",
    "plt.title(\"Germany: EVs in Circulation (2010-2024)\")\n",
    "\n",
    "# Rotate x labels for readability\n",
    "plt.xticks(rotation=45)\n",
    "\n",
    "# Add margin above bars so title doesn't overlap\n",
    "plt.ylim(0, max(values) * 1.15)\n",
    "\n",
    "plt.tight_layout()\n",
    "plt.show()\n"
   ]
  },
  {
   "cell_type": "code",
   "execution_count": 27,
   "id": "5401852f",
   "metadata": {},
   "outputs": [
    {
     "name": "stdout",
     "output_type": "stream",
     "text": [
      "Total EVs in circulation in Germany (2010-2024): 2,085,040\n"
     ]
    }
   ],
   "source": [
    "# Quick check of Germany total EVs in circulation \n",
    "total_germany = pivot_germany.loc['Germany', years].sum()\n",
    "print(f\"Total EVs in circulation in Germany (2010-2024): {int(total_germany):,}\")"
   ]
  },
  {
   "cell_type": "code",
   "execution_count": 72,
   "id": "4c691c7a",
   "metadata": {},
   "outputs": [
    {
     "name": "stdout",
     "output_type": "stream",
     "text": [
      "Total EVs in circulation in Netherlands (2010-2024): 555,470\n"
     ]
    }
   ],
   "source": [
    "# Quick check of Netherlands total EVs in circulation\n",
    "total_netherlands = pivot_df.loc['Netherlands', years].sum()\n",
    "print(f\"Total EVs in circulation in Netherlands (2010-2024): {int(total_netherlands):,}\")\n"
   ]
  },
  {
   "cell_type": "code",
   "execution_count": 34,
   "id": "d62b47b4",
   "metadata": {},
   "outputs": [
    {
     "data": {
      "image/png": "[encoded data removed]",
      "text/plain": [
       "<Figure size 1200x600 with 1 Axes>"
      ]
     },
     "metadata": {},
     "output_type": "display_data"
    }
   ],
   "source": [
    "# Choosing Netherlands and years\n",
    "country = 'Netherlands'  # Change to 'Germany' if needed\n",
    "years = list(range(2010, 2025))\n",
    "values = pivot_df.loc[country, years]\n",
    "\n",
    "# Bar chart with dark blue bars\n",
    "plt.figure(figsize=(12, 6))\n",
    "sns.barplot(x=years, y=values, color='#1f3b73')  # dark blue hex\n",
    "\n",
    "# Add data labels on top of bars\n",
    "for x, y in zip(range(len(years)), values):\n",
    "    plt.text(x, y + max(values)*0.01, f\"{int(y):,}\", \n",
    "             ha='center', va='bottom', fontsize=9, rotation=90)\n",
    "\n",
    "# Labels and title\n",
    "plt.ylabel(\"EVs in circulation\")\n",
    "plt.xlabel(\"Year\")\n",
    "plt.title(f\"{country}: EVs in Circulation (2010-2024)\")\n",
    "\n",
    "# Rotate x labels for readability\n",
    "plt.xticks(rotation=45)\n",
    "\n",
    "# Add margin above bars so title doesn't overlap\n",
    "plt.ylim(0, max(values) * 1.15)\n",
    "\n",
    "plt.tight_layout()\n",
    "plt.show()\n"
   ]
  },
  {
   "cell_type": "code",
   "execution_count": null,
   "id": "75828b4b",
   "metadata": {},
   "outputs": [
    {
     "name": "stdout",
     "output_type": "stream",
     "text": [
      "Total EV Charging Points in Germany (2010-2024): 535,755\n"
     ]
    }
   ],
   "source": [
    "# Total charging points in Germany\n",
    "total_cp_germany = df_germany_charging['value'].sum()\n",
    "print(f\"Total EV Charging Points in Germany (2010-2024): {int(total_cp_germany):,}\")"
   ]
  },
  {
   "cell_type": "code",
   "execution_count": 68,
   "id": "54bee565",
   "metadata": {},
   "outputs": [
    {
     "name": "stdout",
     "output_type": "stream",
     "text": [
      "Total EV Charging Points in Netherlands (2010-2024): 796,312\n"
     ]
    }
   ],
   "source": [
    "# Total charging points in Netherlands \n",
    "total_cp_netherlands = df_netherlands_charging['value'].sum()\n",
    "print(f\"Total EV Charging Points in Netherlands (2010-2024): {int(total_cp_netherlands):,}\")\n"
   ]
  },
  {
   "cell_type": "code",
   "execution_count": 54,
   "id": "1a39bc17",
   "metadata": {},
   "outputs": [
    {
     "data": {
      "application/vnd.plotly.v1+json": {
       "config": {
        "plotlyServerURL": "https://plot.ly"
       },
       "data": [
        {
         "hovertemplate": "Year=%{x}<br>Charging Points=%{y}<br>text_label=%{text}<extra></extra>",
         "legendgroup": "",
         "line": {
          "color": "#636efa",
          "dash": "solid"
         },
         "marker": {
          "symbol": "circle"
         },
         "mode": "lines+markers+text",
         "name": "",
         "orientation": "v",
         "showlegend": false,
         "text": [
          "120,000",
          "87,000",
          "71,000",
          "50,000",
          "37,000",
          "37,000",
          "26,000",
          "23,000",
          "17,000",
          "15,000",
          "9,500",
          "9,400",
          "6,300",
          "5,800",
          "4,600",
          "3,200",
          "2,900",
          "2,600",
          "2,400",
          "2,200",
          "1,700",
          "1,500",
          "470",
          "120",
          "47",
          "18"
         ],
         "textposition": "top center",
         "type": "scatter",
         "x": [
          2024,
          2023,
          2022,
          2021,
          2020,
          2024,
          2019,
          2023,
          2018,
          2022,
          2021,
          2017,
          2020,
          2016,
          2015,
          2019,
          2018,
          2014,
          2013,
          2017,
          2016,
          2012,
          2015,
          2014,
          2013,
          2012
         ],
         "xaxis": "x",
         "y": [
          120000,
          87000,
          71000,
          50000,
          37000,
          37000,
          26000,
          23000,
          17000,
          15000,
          9500,
          9400,
          6300,
          5800,
          4600,
          3200,
          2900,
          2600,
          2400,
          2200,
          1700,
          1500,
          470,
          120,
          47,
          18
         ],
         "yaxis": "y"
        }
       ],
       "layout": {
        "legend": {
         "tracegroupgap": 0
        },
        "template": {
         "data": {
          "bar": [
           {
            "error_x": {
             "color": "#2a3f5f"
            },
            "error_y": {
             "color": "#2a3f5f"
            },
            "marker": {
             "line": {
              "color": "#E5ECF6",
              "width": 0.5
             },
             "pattern": {
              "fillmode": "overlay",
              "size": 10,
              "solidity": 0.2
             }
            },
            "type": "bar"
           }
          ],
          "barpolar": [
           {
            "marker": {
             "line": {
              "color": "#E5ECF6",
              "width": 0.5
             },
             "pattern": {
              "fillmode": "overlay",
              "size": 10,
              "solidity": 0.2
             }
            },
            "type": "barpolar"
           }
          ],
          "carpet": [
           {
            "aaxis": {
             "endlinecolor": "#2a3f5f",
             "gridcolor": "white",
             "linecolor": "white",
             "minorgridcolor": "white",
             "startlinecolor": "#2a3f5f"
            },
            "baxis": {
             "endlinecolor": "#2a3f5f",
             "gridcolor": "white",
             "linecolor": "white",
             "minorgridcolor": "white",
             "startlinecolor": "#2a3f5f"
            },
            "type": "carpet"
           }
          ],
          "choropleth": [
           {
            "colorbar": {
             "outlinewidth": 0,
             "ticks": ""
            },
            "type": "choropleth"
           }
          ],
          "contour": [
           {
            "colorbar": {
             "outlinewidth": 0,
             "ticks": ""
            },
            "colorscale": [
             [
              0,
              "#0d0887"
             ],
             [
              0.1111111111111111,
              "#46039f"
             ],
             [
              0.2222222222222222,
              "#7201a8"
             ],
             [
              0.3333333333333333,
              "#9c179e"
             ],
             [
              0.4444444444444444,
              "#bd3786"
             ],
             [
              0.5555555555555556,
              "#d8576b"
             ],
             [
              0.6666666666666666,
              "#ed7953"
             ],
             [
              0.7777777777777778,
              "#fb9f3a"
             ],
             [
              0.8888888888888888,
              "#fdca26"
             ],
             [
              1,
              "#f0f921"
             ]
            ],
            "type": "contour"
           }
          ],
          "contourcarpet": [
           {
            "colorbar": {
             "outlinewidth": 0,
             "ticks": ""
            },
            "type": "contourcarpet"
           }
          ],
          "heatmap": [
           {
            "colorbar": {
             "outlinewidth": 0,
             "ticks": ""
            },
            "colorscale": [
             [
              0,
              "#0d0887"
             ],
             [
              0.1111111111111111,
              "#46039f"
             ],
             [
              0.2222222222222222,
              "#7201a8"
             ],
             [
              0.3333333333333333,
              "#9c179e"
             ],
             [
              0.4444444444444444,
              "#bd3786"
             ],
             [
              0.5555555555555556,
              "#d8576b"
             ],
             [
              0.6666666666666666,
              "#ed7953"
             ],
             [
              0.7777777777777778,
              "#fb9f3a"
             ],
             [
              0.8888888888888888,
              "#fdca26"
             ],
             [
              1,
              "#f0f921"
             ]
            ],
            "type": "heatmap"
           }
          ],
          "heatmapgl": [
           {
            "colorbar": {
             "outlinewidth": 0,
             "ticks": ""
            },
            "colorscale": [
             [
              0,
              "#0d0887"
             ],
             [
              0.1111111111111111,
              "#46039f"
             ],
             [
              0.2222222222222222,
              "#7201a8"
             ],
             [
              0.3333333333333333,
              "#9c179e"
             ],
             [
              0.4444444444444444,
              "#bd3786"
             ],
             [
              0.5555555555555556,
              "#d8576b"
             ],
             [
              0.6666666666666666,
              "#ed7953"
             ],
             [
              0.7777777777777778,
              "#fb9f3a"
             ],
             [
              0.8888888888888888,
              "#fdca26"
             ],
             [
              1,
              "#f0f921"
             ]
            ],
            "type": "heatmapgl"
           }
          ],
          "histogram": [
           {
            "marker": {
             "pattern": {
              "fillmode": "overlay",
              "size": 10,
              "solidity": 0.2
             }
            },
            "type": "histogram"
           }
          ],
          "histogram2d": [
           {
            "colorbar": {
             "outlinewidth": 0,
             "ticks": ""
            },
            "colorscale": [
             [
              0,
              "#0d0887"
             ],
             [
              0.1111111111111111,
              "#46039f"
             ],
             [
              0.2222222222222222,
              "#7201a8"
             ],
             [
              0.3333333333333333,
              "#9c179e"
             ],
             [
              0.4444444444444444,
              "#bd3786"
             ],
             [
              0.5555555555555556,
              "#d8576b"
             ],
             [
              0.6666666666666666,
              "#ed7953"
             ],
             [
              0.7777777777777778,
              "#fb9f3a"
             ],
             [
              0.8888888888888888,
              "#fdca26"
             ],
             [
              1,
              "#f0f921"
             ]
            ],
            "type": "histogram2d"
           }
          ],
          "histogram2dcontour": [
           {
            "colorbar": {
             "outlinewidth": 0,
             "ticks": ""
            },
            "colorscale": [
             [
              0,
              "#0d0887"
             ],
             [
              0.1111111111111111,
              "#46039f"
             ],
             [
              0.2222222222222222,
              "#7201a8"
             ],
             [
              0.3333333333333333,
              "#9c179e"
             ],
             [
              0.4444444444444444,
              "#bd3786"
             ],
             [
              0.5555555555555556,
              "#d8576b"
             ],
             [
              0.6666666666666666,
              "#ed7953"
             ],
             [
              0.7777777777777778,
              "#fb9f3a"
             ],
             [
              0.8888888888888888,
              "#fdca26"
             ],
             [
              1,
              "#f0f921"
             ]
            ],
            "type": "histogram2dcontour"
           }
          ],
          "mesh3d": [
           {
            "colorbar": {
             "outlinewidth": 0,
             "ticks": ""
            },
            "type": "mesh3d"
           }
          ],
          "parcoords": [
           {
            "line": {
             "colorbar": {
              "outlinewidth": 0,
              "ticks": ""
             }
            },
            "type": "parcoords"
           }
          ],
          "pie": [
           {
            "automargin": true,
            "type": "pie"
           }
          ],
          "scatter": [
           {
            "fillpattern": {
             "fillmode": "overlay",
             "size": 10,
             "solidity": 0.2
            },
            "type": "scatter"
           }
          ],
          "scatter3d": [
           {
            "line": {
             "colorbar": {
              "outlinewidth": 0,
              "ticks": ""
             }
            },
            "marker": {
             "colorbar": {
              "outlinewidth": 0,
              "ticks": ""
             }
            },
            "type": "scatter3d"
           }
          ],
          "scattercarpet": [
           {
            "marker": {
             "colorbar": {
              "outlinewidth": 0,
              "ticks": ""
             }
            },
            "type": "scattercarpet"
           }
          ],
          "scattergeo": [
           {
            "marker": {
             "colorbar": {
              "outlinewidth": 0,
              "ticks": ""
             }
            },
            "type": "scattergeo"
           }
          ],
          "scattergl": [
           {
            "marker": {
             "colorbar": {
              "outlinewidth": 0,
              "ticks": ""
             }
            },
            "type": "scattergl"
           }
          ],
          "scattermapbox": [
           {
            "marker": {
             "colorbar": {
              "outlinewidth": 0,
              "ticks": ""
             }
            },
            "type": "scattermapbox"
           }
          ],
          "scatterpolar": [
           {
            "marker": {
             "colorbar": {
              "outlinewidth": 0,
              "ticks": ""
             }
            },
            "type": "scatterpolar"
           }
          ],
          "scatterpolargl": [
           {
            "marker": {
             "colorbar": {
              "outlinewidth": 0,
              "ticks": ""
             }
            },
            "type": "scatterpolargl"
           }
          ],
          "scatterternary": [
           {
            "marker": {
             "colorbar": {
              "outlinewidth": 0,
              "ticks": ""
             }
            },
            "type": "scatterternary"
           }
          ],
          "surface": [
           {
            "colorbar": {
             "outlinewidth": 0,
             "ticks": ""
            },
            "colorscale": [
             [
              0,
              "#0d0887"
             ],
             [
              0.1111111111111111,
              "#46039f"
             ],
             [
              0.2222222222222222,
              "#7201a8"
             ],
             [
              0.3333333333333333,
              "#9c179e"
             ],
             [
              0.4444444444444444,
              "#bd3786"
             ],
             [
              0.5555555555555556,
              "#d8576b"
             ],
             [
              0.6666666666666666,
              "#ed7953"
             ],
             [
              0.7777777777777778,
              "#fb9f3a"
             ],
             [
              0.8888888888888888,
              "#fdca26"
             ],
             [
              1,
              "#f0f921"
             ]
            ],
            "type": "surface"
           }
          ],
          "table": [
           {
            "cells": {
             "fill": {
              "color": "#EBF0F8"
             },
             "line": {
              "color": "white"
             }
            },
            "header": {
             "fill": {
              "color": "#C8D4E3"
             },
             "line": {
              "color": "white"
             }
            },
            "type": "table"
           }
          ]
         },
         "layout": {
          "annotationdefaults": {
           "arrowcolor": "#2a3f5f",
           "arrowhead": 0,
           "arrowwidth": 1
          },
          "autotypenumbers": "strict",
          "coloraxis": {
           "colorbar": {
            "outlinewidth": 0,
            "ticks": ""
           }
          },
          "colorscale": {
           "diverging": [
            [
             0,
             "#8e0152"
            ],
            [
             0.1,
             "#c51b7d"
            ],
            [
             0.2,
             "#de77ae"
            ],
            [
             0.3,
             "#f1b6da"
            ],
            [
             0.4,
             "#fde0ef"
            ],
            [
             0.5,
             "#f7f7f7"
            ],
            [
             0.6,
             "#e6f5d0"
            ],
            [
             0.7,
             "#b8e186"
            ],
            [
             0.8,
             "#7fbc41"
            ],
            [
             0.9,
             "#4d9221"
            ],
            [
             1,
             "#276419"
            ]
           ],
           "sequential": [
            [
             0,
             "#0d0887"
            ],
            [
             0.1111111111111111,
             "#46039f"
            ],
            [
             0.2222222222222222,
             "#7201a8"
            ],
            [
             0.3333333333333333,
             "#9c179e"
            ],
            [
             0.4444444444444444,
             "#bd3786"
            ],
            [
             0.5555555555555556,
             "#d8576b"
            ],
            [
             0.6666666666666666,
             "#ed7953"
            ],
            [
             0.7777777777777778,
             "#fb9f3a"
            ],
            [
             0.8888888888888888,
             "#fdca26"
            ],
            [
             1,
             "#f0f921"
            ]
           ],
           "sequentialminus": [
            [
             0,
             "#0d0887"
            ],
            [
             0.1111111111111111,
             "#46039f"
            ],
            [
             0.2222222222222222,
             "#7201a8"
            ],
            [
             0.3333333333333333,
             "#9c179e"
            ],
            [
             0.4444444444444444,
             "#bd3786"
            ],
            [
             0.5555555555555556,
             "#d8576b"
            ],
            [
             0.6666666666666666,
             "#ed7953"
            ],
            [
             0.7777777777777778,
             "#fb9f3a"
            ],
            [
             0.8888888888888888,
             "#fdca26"
            ],
            [
             1,
             "#f0f921"
            ]
           ]
          },
          "colorway": [
           "#636efa",
           "#EF553B",
           "#00cc96",
           "#ab63fa",
           "#FFA15A",
           "#19d3f3",
           "#FF6692",
           "#B6E880",
           "#FF97FF",
           "#FECB52"
          ],
          "font": {
           "color": "#2a3f5f"
          },
          "geo": {
           "bgcolor": "white",
           "lakecolor": "white",
           "landcolor": "#E5ECF6",
           "showlakes": true,
           "showland": true,
           "subunitcolor": "white"
          },
          "hoverlabel": {
           "align": "left"
          },
          "hovermode": "closest",
          "mapbox": {
           "style": "light"
          },
          "paper_bgcolor": "white",
          "plot_bgcolor": "#E5ECF6",
          "polar": {
           "angularaxis": {
            "gridcolor": "white",
            "linecolor": "white",
            "ticks": ""
           },
           "bgcolor": "#E5ECF6",
           "radialaxis": {
            "gridcolor": "white",
            "linecolor": "white",
            "ticks": ""
           }
          },
          "scene": {
           "xaxis": {
            "backgroundcolor": "#E5ECF6",
            "gridcolor": "white",
            "gridwidth": 2,
            "linecolor": "white",
            "showbackground": true,
            "ticks": "",
            "zerolinecolor": "white"
           },
           "yaxis": {
            "backgroundcolor": "#E5ECF6",
            "gridcolor": "white",
            "gridwidth": 2,
            "linecolor": "white",
            "showbackground": true,
            "ticks": "",
            "zerolinecolor": "white"
           },
           "zaxis": {
            "backgroundcolor": "#E5ECF6",
            "gridcolor": "white",
            "gridwidth": 2,
            "linecolor": "white",
            "showbackground": true,
            "ticks": "",
            "zerolinecolor": "white"
           }
          },
          "shapedefaults": {
           "line": {
            "color": "#2a3f5f"
           }
          },
          "ternary": {
           "aaxis": {
            "gridcolor": "white",
            "linecolor": "white",
            "ticks": ""
           },
           "baxis": {
            "gridcolor": "white",
            "linecolor": "white",
            "ticks": ""
           },
           "bgcolor": "#E5ECF6",
           "caxis": {
            "gridcolor": "white",
            "linecolor": "white",
            "ticks": ""
           }
          },
          "title": {
           "x": 0.05
          },
          "xaxis": {
           "automargin": true,
           "gridcolor": "white",
           "linecolor": "white",
           "ticks": "",
           "title": {
            "standoff": 15
           },
           "zerolinecolor": "white",
           "zerolinewidth": 2
          },
          "yaxis": {
           "automargin": true,
           "gridcolor": "white",
           "linecolor": "white",
           "ticks": "",
           "title": {
            "standoff": 15
           },
           "zerolinecolor": "white",
           "zerolinewidth": 2
          }
         }
        },
        "title": {
         "text": "Germany: EV Charging Points (2010-2024)"
        },
        "xaxis": {
         "anchor": "y",
         "domain": [
          0,
          1
         ],
         "title": {
          "text": "Year"
         }
        },
        "yaxis": {
         "anchor": "x",
         "domain": [
          0,
          1
         ],
         "title": {
          "text": "Charging Points"
         }
        }
       }
      }
     },
     "metadata": {},
     "output_type": "display_data"
    }
   ],
   "source": [
    "# Filter for Germany charging points\n",
    "df_germany_charging = df[\n",
    "    (df['unit'] == 'charging points') &\n",
    "    (df['region_country'] == 'Germany')\n",
    "].copy()\n",
    "\n",
    "# Add a text column for data labels\n",
    "df_germany_charging['text_label'] = df_germany_charging['value'].apply(lambda x: f\"{int(x):,}\")\n",
    "\n",
    "# Plot Germany charging points trend with markers and labels\n",
    "fig = px.line(\n",
    "    df_germany_charging,\n",
    "    x='year',\n",
    "    y='value',\n",
    "    markers=True,\n",
    "    text='text_label',  # show numbers on the chart\n",
    "    title='Germany: EV Charging Points (2010-2024)',\n",
    "    labels={'value': 'Charging Points', 'year': 'Year'}\n",
    ")\n",
    "\n",
    "# Adjust label position slightly above the markers\n",
    "fig.update_traces(textposition='top center')\n",
    "\n",
    "fig.show()\n"
   ]
  },
  {
   "cell_type": "code",
   "execution_count": null,
   "id": "c60c22f0",
   "metadata": {},
   "outputs": [
    {
     "data": {
      "application/vnd.plotly.v1+json": {
       "config": {
        "plotlyServerURL": "https://plot.ly"
       },
       "data": [
        {
         "hovertemplate": "Country=Netherlands<br>Year=%{x}<br>Charging Points=%{y}<br>text_label=%{text}<extra></extra>",
         "legendgroup": "Netherlands",
         "line": {
          "color": "#636efa",
          "dash": "solid"
         },
         "marker": {
          "symbol": "circle"
         },
         "mode": "lines+markers+text",
         "name": "Netherlands",
         "orientation": "v",
         "showlegend": true,
         "text": [
          "180,000",
          "140,000",
          "120,000",
          "81,000",
          "63,000",
          "46,000",
          "36,000",
          "33,000",
          "32,000",
          "18,000",
          "12,000",
          "8,000",
          "5,800",
          "5,000",
          "4,500",
          "2,800",
          "2,800",
          "2,300",
          "1,300",
          "820",
          "410",
          "400",
          "400",
          "400",
          "220",
          "120",
          "21",
          "21"
         ],
         "textposition": "top center",
         "type": "scatter",
         "x": [
          2024,
          2023,
          2022,
          2021,
          2020,
          2019,
          2018,
          2017,
          2016,
          2015,
          2014,
          2024,
          2013,
          2023,
          2022,
          2012,
          2021,
          2020,
          2019,
          2018,
          2017,
          2010,
          2011,
          2016,
          2015,
          2014,
          2012,
          2013
         ],
         "xaxis": "x",
         "y": [
          180000,
          140000,
          120000,
          81000,
          63000,
          46000,
          36000,
          33000,
          32000,
          18000,
          12000,
          8000,
          5800,
          5000,
          4500,
          2800,
          2800,
          2300,
          1300,
          820,
          410,
          400,
          400,
          400,
          220,
          120,
          21,
          21
         ],
         "yaxis": "y"
        },
        {
         "hovertemplate": "Country=France<br>Year=%{x}<br>Charging Points=%{y}<br>text_label=%{text}<extra></extra>",
         "legendgroup": "France",
         "line": {
          "color": "#EF553B",
          "dash": "solid"
         },
         "marker": {
          "symbol": "circle"
         },
         "mode": "lines+markers+text",
         "name": "France",
         "orientation": "v",
         "showlegend": true,
         "text": [
          "120,000",
          "99,000",
          "74,000",
          "50,000",
          "32,000",
          "31,000",
          "28,000",
          "23,000",
          "20,000",
          "20,000",
          "19,000",
          "17,000",
          "9,900",
          "4,900",
          "3,300",
          "2,700",
          "2,300",
          "1,700",
          "1,700",
          "1,000",
          "1,000",
          "800",
          "580",
          "110",
          "100",
          "9"
         ],
         "textposition": "top center",
         "type": "scatter",
         "x": [
          2024,
          2023,
          2022,
          2021,
          2024,
          2020,
          2019,
          2018,
          2017,
          2023,
          2016,
          2022,
          2015,
          2021,
          2020,
          2019,
          2018,
          2013,
          2014,
          2016,
          2017,
          2012,
          2015,
          2014,
          2013,
          2012
         ],
         "xaxis": "x",
         "y": [
          120000,
          99000,
          74000,
          50000,
          32000,
          31000,
          28000,
          23000,
          20000,
          20000,
          19000,
          17000,
          9900,
          4900,
          3300,
          2700,
          2300,
          1700,
          1700,
          1000,
          1000,
          800,
          580,
          110,
          100,
          9
         ],
         "yaxis": "y"
        },
        {
         "hovertemplate": "Country=Germany<br>Year=%{x}<br>Charging Points=%{y}<br>text_label=%{text}<extra></extra>",
         "legendgroup": "Germany",
         "line": {
          "color": "#00cc96",
          "dash": "solid"
         },
         "marker": {
          "symbol": "circle"
         },
         "mode": "lines+markers+text",
         "name": "Germany",
         "orientation": "v",
         "showlegend": true,
         "text": [
          "120,000",
          "87,000",
          "71,000",
          "50,000",
          "37,000",
          "37,000",
          "26,000",
          "23,000",
          "17,000",
          "15,000",
          "9,500",
          "9,400",
          "6,300",
          "5,800",
          "4,600",
          "3,200",
          "2,900",
          "2,600",
          "2,400",
          "2,200",
          "1,700",
          "1,500",
          "470",
          "120",
          "47",
          "18"
         ],
         "textposition": "top center",
         "type": "scatter",
         "x": [
          2024,
          2023,
          2022,
          2021,
          2020,
          2024,
          2019,
          2023,
          2018,
          2022,
          2021,
          2017,
          2020,
          2016,
          2015,
          2019,
          2018,
          2014,
          2013,
          2017,
          2016,
          2012,
          2015,
          2014,
          2013,
          2012
         ],
         "xaxis": "x",
         "y": [
          120000,
          87000,
          71000,
          50000,
          37000,
          37000,
          26000,
          23000,
          17000,
          15000,
          9500,
          9400,
          6300,
          5800,
          4600,
          3200,
          2900,
          2600,
          2400,
          2200,
          1700,
          1500,
          470,
          120,
          47,
          18
         ],
         "yaxis": "y"
        },
        {
         "hovertemplate": "Country=Belgium<br>Year=%{x}<br>Charging Points=%{y}<br>text_label=%{text}<extra></extra>",
         "legendgroup": "Belgium",
         "line": {
          "color": "#ab63fa",
          "dash": "solid"
         },
         "marker": {
          "symbol": "circle"
         },
         "mode": "lines+markers+text",
         "name": "Belgium",
         "orientation": "v",
         "showlegend": true,
         "text": [
          "72,000",
          "42,000",
          "23,000",
          "12,000",
          "8,000",
          "6,100",
          "2,700",
          "2,600",
          "2,000",
          "1,500",
          "1,500",
          "1,300",
          "1,200",
          "740",
          "720",
          "560",
          "490",
          "330",
          "320",
          "300",
          "140",
          "100",
          "55",
          "47"
         ],
         "textposition": "top center",
         "type": "scatter",
         "x": [
          2024,
          2023,
          2022,
          2021,
          2020,
          2019,
          2018,
          2024,
          2023,
          2016,
          2017,
          2015,
          2022,
          2020,
          2021,
          2014,
          2019,
          2013,
          2018,
          2017,
          2016,
          2015,
          2014,
          2013
         ],
         "xaxis": "x",
         "y": [
          72000,
          42000,
          23000,
          12000,
          8000,
          6100,
          2700,
          2600,
          2000,
          1500,
          1500,
          1300,
          1200,
          740,
          720,
          560,
          490,
          330,
          320,
          300,
          140,
          100,
          55,
          47
         ],
         "yaxis": "y"
        },
        {
         "hovertemplate": "Country=United Kingdom<br>Year=%{x}<br>Charging Points=%{y}<br>text_label=%{text}<extra></extra>",
         "legendgroup": "United Kingdom",
         "line": {
          "color": "#FFA15A",
          "dash": "solid"
         },
         "marker": {
          "symbol": "circle"
         },
         "mode": "lines+markers+text",
         "name": "United Kingdom",
         "orientation": "v",
         "showlegend": true,
         "text": [
          "71,000",
          "60,000",
          "44,000",
          "29,000",
          "18,000",
          "17,000",
          "15,000",
          "14,000",
          "13,000",
          "12,000",
          "11,000",
          "8,200",
          "7,800",
          "7,200",
          "5,500",
          "5,400",
          "4,700",
          "2,800",
          "1,500",
          "1,100",
          "1,100",
          "920",
          "780",
          "540",
          "250",
          "80"
         ],
         "textposition": "top center",
         "type": "scatter",
         "x": [
          2024,
          2023,
          2022,
          2021,
          2020,
          2024,
          2018,
          2019,
          2017,
          2023,
          2016,
          2015,
          2022,
          2014,
          2021,
          2013,
          2020,
          2012,
          2011,
          2018,
          2019,
          2017,
          2016,
          2015,
          2014,
          2013
         ],
         "xaxis": "x",
         "y": [
          71000,
          60000,
          44000,
          29000,
          18000,
          17000,
          15000,
          14000,
          13000,
          12000,
          11000,
          8200,
          7800,
          7200,
          5500,
          5400,
          4700,
          2800,
          1500,
          1100,
          1100,
          920,
          780,
          540,
          250,
          80
         ],
         "yaxis": "y"
        },
        {
         "hovertemplate": "Country=Italy<br>Year=%{x}<br>Charging Points=%{y}<br>text_label=%{text}<extra></extra>",
         "legendgroup": "Italy",
         "line": {
          "color": "#19d3f3",
          "dash": "solid"
         },
         "marker": {
          "symbol": "circle"
         },
         "mode": "lines+markers+text",
         "name": "Italy",
         "orientation": "v",
         "showlegend": true,
         "text": [
          "49,000",
          "40,000",
          "31,000",
          "20,000",
          "12,000",
          "11,000",
          "8,300",
          "8,100",
          "7,000",
          "2,900",
          "2,400",
          "2,300",
          "2,200",
          "1,700",
          "1,500",
          "1,400",
          "1,400",
          "1,400",
          "1,100",
          "700",
          "460",
          "170",
          "70",
          "10"
         ],
         "textposition": "top center",
         "type": "scatter",
         "x": [
          2024,
          2023,
          2022,
          2021,
          2020,
          2024,
          2019,
          2023,
          2022,
          2018,
          2017,
          2016,
          2021,
          2015,
          2020,
          2012,
          2013,
          2014,
          2019,
          2018,
          2017,
          2016,
          2015,
          2014
         ],
         "xaxis": "x",
         "y": [
          49000,
          40000,
          31000,
          20000,
          12000,
          11000,
          8300,
          8100,
          7000,
          2900,
          2400,
          2300,
          2200,
          1700,
          1500,
          1400,
          1400,
          1400,
          1100,
          700,
          460,
          170,
          70,
          10
         ],
         "yaxis": "y"
        },
        {
         "hovertemplate": "Country=Sweden<br>Year=%{x}<br>Charging Points=%{y}<br>text_label=%{text}<extra></extra>",
         "legendgroup": "Sweden",
         "line": {
          "color": "#FF6692",
          "dash": "solid"
         },
         "marker": {
          "symbol": "circle"
         },
         "mode": "lines+markers+text",
         "name": "Sweden",
         "orientation": "v",
         "showlegend": true,
         "text": [
          "38,000",
          "30,000",
          "15,000",
          "12,000",
          "9,800",
          "7,800",
          "7,800",
          "6,600",
          "5,500",
          "3,400",
          "2,600",
          "1,700",
          "1,700",
          "1,400",
          "1,200",
          "1,100",
          "1,000",
          "1,000",
          "520",
          "190",
          "5"
         ],
         "textposition": "top center",
         "type": "scatter",
         "x": [
          2024,
          2023,
          2022,
          2021,
          2020,
          2019,
          2023,
          2024,
          2018,
          2017,
          2022,
          2016,
          2021,
          2020,
          2019,
          2015,
          2014,
          2018,
          2016,
          2017,
          2013
         ],
         "xaxis": "x",
         "y": [
          38000,
          30000,
          15000,
          12000,
          9800,
          7800,
          7800,
          6600,
          5500,
          3400,
          2600,
          1700,
          1700,
          1400,
          1200,
          1100,
          1000,
          1000,
          520,
          190,
          5
         ],
         "yaxis": "y"
        },
        {
         "hovertemplate": "Country=Spain<br>Year=%{x}<br>Charging Points=%{y}<br>text_label=%{text}<extra></extra>",
         "legendgroup": "Spain",
         "line": {
          "color": "#B6E880",
          "dash": "solid"
         },
         "marker": {
          "symbol": "circle"
         },
         "mode": "lines+markers+text",
         "name": "Spain",
         "orientation": "v",
         "showlegend": true,
         "text": [
          "28,000",
          "19,000",
          "13,000",
          "10,000",
          "6,600",
          "6,000",
          "5,600",
          "4,500",
          "4,400",
          "4,300",
          "3,300",
          "2,700",
          "2,700",
          "2,200",
          "1,400",
          "800",
          "800",
          "440",
          "440",
          "400",
          "360",
          "240",
          "110",
          "91"
         ],
         "textposition": "top center",
         "type": "scatter",
         "x": [
          2024,
          2023,
          2024,
          2022,
          2023,
          2020,
          2021,
          2019,
          2018,
          2017,
          2016,
          2020,
          2021,
          2022,
          2015,
          2013,
          2014,
          2017,
          2018,
          2012,
          2016,
          2015,
          2014,
          2013
         ],
         "xaxis": "x",
         "y": [
          28000,
          19000,
          13000,
          10000,
          6600,
          6000,
          5600,
          4500,
          4400,
          4300,
          3300,
          2700,
          2700,
          2200,
          1400,
          800,
          800,
          440,
          440,
          400,
          360,
          240,
          110,
          91
         ],
         "yaxis": "y"
        },
        {
         "hovertemplate": "Country=Denmark<br>Year=%{x}<br>Charging Points=%{y}<br>text_label=%{text}<extra></extra>",
         "legendgroup": "Denmark",
         "line": {
          "color": "#FF97FF",
          "dash": "solid"
         },
         "marker": {
          "symbol": "circle"
         },
         "mode": "lines+markers+text",
         "name": "Denmark",
         "orientation": "v",
         "showlegend": true,
         "text": [
          "27,000",
          "14,000",
          "10,000",
          "6,400",
          "4,500",
          "4,300",
          "4,200",
          "4,200",
          "3,000",
          "2,100",
          "1,600",
          "1,400",
          "990",
          "900",
          "890",
          "870",
          "460",
          "400",
          "390",
          "340",
          "300",
          "110",
          "56"
         ],
         "textposition": "top center",
         "type": "scatter",
         "x": [
          2024,
          2023,
          2022,
          2024,
          2019,
          2018,
          2016,
          2017,
          2023,
          2015,
          2014,
          2022,
          2013,
          2012,
          2021,
          2020,
          2019,
          2018,
          2017,
          2016,
          2015,
          2014,
          2013
         ],
         "xaxis": "x",
         "y": [
          27000,
          14000,
          10000,
          6400,
          4500,
          4300,
          4200,
          4200,
          3000,
          2100,
          1600,
          1400,
          990,
          900,
          890,
          870,
          460,
          400,
          390,
          340,
          300,
          110,
          56
         ],
         "yaxis": "y"
        },
        {
         "hovertemplate": "Country=Austria<br>Year=%{x}<br>Charging Points=%{y}<br>text_label=%{text}<extra></extra>",
         "legendgroup": "Austria",
         "line": {
          "color": "#FECB52",
          "dash": "solid"
         },
         "marker": {
          "symbol": "circle"
         },
         "mode": "lines+markers+text",
         "name": "Austria",
         "orientation": "v",
         "showlegend": true,
         "text": [
          "21,000",
          "15,000",
          "13,000",
          "8,900",
          "7,100",
          "6,300",
          "3,700",
          "3,600",
          "1,500",
          "1,500",
          "22"
         ],
         "textposition": "top center",
         "type": "scatter",
         "x": [
          2024,
          2023,
          2022,
          2021,
          2020,
          2024,
          2019,
          2023,
          2020,
          2021,
          2019
         ],
         "xaxis": "x",
         "y": [
          21000,
          15000,
          13000,
          8900,
          7100,
          6300,
          3700,
          3600,
          1500,
          1500,
          22
         ],
         "yaxis": "y"
        },
        {
         "hovertemplate": "Country=Norway<br>Year=%{x}<br>Charging Points=%{y}<br>text_label=%{text}<extra></extra>",
         "legendgroup": "Norway",
         "line": {
          "color": "#636efa",
          "dash": "solid"
         },
         "marker": {
          "symbol": "circle"
         },
         "mode": "lines+markers+text",
         "name": "Norway",
         "orientation": "v",
         "showlegend": true,
         "text": [
          "18,000",
          "16,000",
          "15,000",
          "13,000",
          "13,000",
          "12,000",
          "12,000",
          "10,000",
          "10,000",
          "9,300",
          "8,300",
          "7,000",
          "6,700",
          "5,300",
          "5,200",
          "5,200",
          "4,500",
          "4,000",
          "3,700",
          "3,100",
          "2,800",
          "1,200",
          "920",
          "500",
          "330",
          "110",
          "96",
          "58",
          "18"
         ],
         "textposition": "top center",
         "type": "scatter",
         "x": [
          2024,
          2023,
          2022,
          2021,
          2024,
          2020,
          2023,
          2019,
          2022,
          2018,
          2017,
          2016,
          2021,
          2020,
          2014,
          2015,
          2013,
          2019,
          2012,
          2011,
          2010,
          2018,
          2017,
          2016,
          2015,
          2014,
          2013,
          2012,
          2011
         ],
         "xaxis": "x",
         "y": [
          18000,
          16000,
          15000,
          13000,
          13000,
          12000,
          12000,
          10000,
          10000,
          9300,
          8300,
          7000,
          6700,
          5300,
          5200,
          5200,
          4500,
          4000,
          3700,
          3100,
          2800,
          1200,
          920,
          500,
          330,
          110,
          96,
          58,
          18
         ],
         "yaxis": "y"
        },
        {
         "hovertemplate": "Country=Switzerland<br>Year=%{x}<br>Charging Points=%{y}<br>text_label=%{text}<extra></extra>",
         "legendgroup": "Switzerland",
         "line": {
          "color": "#EF553B",
          "dash": "solid"
         },
         "marker": {
          "symbol": "circle"
         },
         "mode": "lines+markers+text",
         "name": "Switzerland",
         "orientation": "v",
         "showlegend": true,
         "text": [
          "15,000",
          "13,000",
          "10,000",
          "8,200",
          "6,700",
          "5,400",
          "4,400",
          "4,200",
          "3,500",
          "3,500",
          "3,400",
          "2,800",
          "2,200",
          "1,900",
          "1,300",
          "1,000",
          "920",
          "740",
          "600",
          "580",
          "400",
          "350",
          "260",
          "99",
          "27",
          "4"
         ],
         "textposition": "top center",
         "type": "scatter",
         "x": [
          2024,
          2023,
          2022,
          2021,
          2020,
          2019,
          2018,
          2024,
          2016,
          2017,
          2015,
          2023,
          2022,
          2021,
          2014,
          2020,
          2019,
          2018,
          2013,
          2017,
          2012,
          2016,
          2015,
          2014,
          2013,
          2012
         ],
         "xaxis": "x",
         "y": [
          15000,
          13000,
          10000,
          8200,
          6700,
          5400,
          4400,
          4200,
          3500,
          3500,
          3400,
          2800,
          2200,
          1900,
          1300,
          1000,
          920,
          740,
          600,
          580,
          400,
          350,
          260,
          99,
          27,
          4
         ],
         "yaxis": "y"
        },
        {
         "hovertemplate": "Country=Finland<br>Year=%{x}<br>Charging Points=%{y}<br>text_label=%{text}<extra></extra>",
         "legendgroup": "Finland",
         "line": {
          "color": "#00cc96",
          "dash": "solid"
         },
         "marker": {
          "symbol": "circle"
         },
         "mode": "lines+markers+text",
         "name": "Finland",
         "orientation": "v",
         "showlegend": true,
         "text": [
          "12,000",
          "9,300",
          "7,700",
          "5,800",
          "4,400",
          "3,900",
          "3,100",
          "2,900",
          "2,000",
          "1,700",
          "790",
          "710",
          "710",
          "710",
          "430",
          "390",
          "360",
          "250",
          "220",
          "140",
          "140",
          "130",
          "26",
          "17"
         ],
         "textposition": "top center",
         "type": "scatter",
         "x": [
          2024,
          2023,
          2022,
          2021,
          2024,
          2020,
          2019,
          2023,
          2018,
          2022,
          2021,
          2015,
          2016,
          2017,
          2020,
          2019,
          2014,
          2013,
          2018,
          2016,
          2017,
          2015,
          2014,
          2013
         ],
         "xaxis": "x",
         "y": [
          12000,
          9300,
          7700,
          5800,
          4400,
          3900,
          3100,
          2900,
          2000,
          1700,
          790,
          710,
          710,
          710,
          430,
          390,
          360,
          250,
          220,
          140,
          140,
          130,
          26,
          17
         ],
         "yaxis": "y"
        },
        {
         "hovertemplate": "Country=Portugal<br>Year=%{x}<br>Charging Points=%{y}<br>text_label=%{text}<extra></extra>",
         "legendgroup": "Portugal",
         "line": {
          "color": "#ab63fa",
          "dash": "solid"
         },
         "marker": {
          "symbol": "circle"
         },
         "mode": "lines+markers+text",
         "name": "Portugal",
         "orientation": "v",
         "showlegend": true,
         "text": [
          "9,300",
          "5,600",
          "4,000",
          "3,800",
          "3,800",
          "2,800",
          "2,200",
          "1,600",
          "1,600",
          "1,600",
          "1,500",
          "1,400",
          "1,300",
          "1,200",
          "1,200",
          "1,200",
          "1,100",
          "1,100",
          "720",
          "360",
          "180",
          "150",
          "41",
          "22",
          "17",
          "17",
          "7",
          "6"
         ],
         "textposition": "top center",
         "type": "scatter",
         "x": [
          2024,
          2023,
          2022,
          2023,
          2024,
          2021,
          2020,
          2018,
          2019,
          2022,
          2017,
          2021,
          2016,
          2013,
          2014,
          2015,
          2011,
          2012,
          2020,
          2019,
          2018,
          2017,
          2016,
          2015,
          2013,
          2014,
          2012,
          2011
         ],
         "xaxis": "x",
         "y": [
          9300,
          5600,
          4000,
          3800,
          3800,
          2800,
          2200,
          1600,
          1600,
          1600,
          1500,
          1400,
          1300,
          1200,
          1200,
          1200,
          1100,
          1100,
          720,
          360,
          180,
          150,
          41,
          22,
          17,
          17,
          7,
          6
         ],
         "yaxis": "y"
        },
        {
         "hovertemplate": "Country=Poland<br>Year=%{x}<br>Charging Points=%{y}<br>text_label=%{text}<extra></extra>",
         "legendgroup": "Poland",
         "line": {
          "color": "#FFA15A",
          "dash": "solid"
         },
         "marker": {
          "symbol": "circle"
         },
         "mode": "lines+markers+text",
         "name": "Poland",
         "orientation": "v",
         "showlegend": true,
         "text": [
          "6,200",
          "4,400",
          "4,000",
          "3,000",
          "2,300",
          "1,500",
          "1,500",
          "1,000",
          "530",
          "520",
          "520",
          "490",
          "410",
          "290",
          "290",
          "120",
          "120",
          "110",
          "43",
          "12",
          "8",
          "4"
         ],
         "textposition": "top center",
         "type": "scatter",
         "x": [
          2024,
          2023,
          2022,
          2024,
          2021,
          2021,
          2023,
          2020,
          2019,
          2020,
          2022,
          2018,
          2017,
          2015,
          2016,
          2014,
          2019,
          2018,
          2017,
          2016,
          2015,
          2014
         ],
         "xaxis": "x",
         "y": [
          6200,
          4400,
          4000,
          3000,
          2300,
          1500,
          1500,
          1000,
          530,
          520,
          520,
          490,
          410,
          290,
          290,
          120,
          120,
          110,
          43,
          12,
          8,
          4
         ],
         "yaxis": "y"
        },
        {
         "hovertemplate": "Country=Greece<br>Year=%{x}<br>Charging Points=%{y}<br>text_label=%{text}<extra></extra>",
         "legendgroup": "Greece",
         "line": {
          "color": "#19d3f3",
          "dash": "solid"
         },
         "marker": {
          "symbol": "circle"
         },
         "mode": "lines+markers+text",
         "name": "Greece",
         "orientation": "v",
         "showlegend": true,
         "text": [
          "5,000",
          "4,900",
          "2,800",
          "1,200",
          "1,000",
          "280",
          "260",
          "220",
          "120",
          "63",
          "31",
          "28",
          "22",
          "15",
          "14",
          "8",
          "2",
          "2",
          "1",
          "1"
         ],
         "textposition": "top center",
         "type": "scatter",
         "x": [
          2024,
          2023,
          2022,
          2021,
          2024,
          2022,
          2023,
          2020,
          2014,
          2019,
          2018,
          2021,
          2017,
          2016,
          2015,
          2020,
          2014,
          2015,
          2018,
          2019
         ],
         "xaxis": "x",
         "y": [
          5000,
          4900,
          2800,
          1200,
          1000,
          280,
          260,
          220,
          120,
          63,
          31,
          28,
          22,
          15,
          14,
          8,
          2,
          2,
          1,
          1
         ],
         "yaxis": "y"
        }
       ],
       "layout": {
        "legend": {
         "title": {
          "text": "Country"
         },
         "tracegroupgap": 0
        },
        "template": {
         "data": {
          "bar": [
           {
            "error_x": {
             "color": "#2a3f5f"
            },
            "error_y": {
             "color": "#2a3f5f"
            },
            "marker": {
             "line": {
              "color": "#E5ECF6",
              "width": 0.5
             },
             "pattern": {
              "fillmode": "overlay",
              "size": 10,
              "solidity": 0.2
             }
            },
            "type": "bar"
           }
          ],
          "barpolar": [
           {
            "marker": {
             "line": {
              "color": "#E5ECF6",
              "width": 0.5
             },
             "pattern": {
              "fillmode": "overlay",
              "size": 10,
              "solidity": 0.2
             }
            },
            "type": "barpolar"
           }
          ],
          "carpet": [
           {
            "aaxis": {
             "endlinecolor": "#2a3f5f",
             "gridcolor": "white",
             "linecolor": "white",
             "minorgridcolor": "white",
             "startlinecolor": "#2a3f5f"
            },
            "baxis": {
             "endlinecolor": "#2a3f5f",
             "gridcolor": "white",
             "linecolor": "white",
             "minorgridcolor": "white",
             "startlinecolor": "#2a3f5f"
            },
            "type": "carpet"
           }
          ],
          "choropleth": [
           {
            "colorbar": {
             "outlinewidth": 0,
             "ticks": ""
            },
            "type": "choropleth"
           }
          ],
          "contour": [
           {
            "colorbar": {
             "outlinewidth": 0,
             "ticks": ""
            },
            "colorscale": [
             [
              0,
              "#0d0887"
             ],
             [
              0.1111111111111111,
              "#46039f"
             ],
             [
              0.2222222222222222,
              "#7201a8"
             ],
             [
              0.3333333333333333,
              "#9c179e"
             ],
             [
              0.4444444444444444,
              "#bd3786"
             ],
             [
              0.5555555555555556,
              "#d8576b"
             ],
             [
              0.6666666666666666,
              "#ed7953"
             ],
             [
              0.7777777777777778,
              "#fb9f3a"
             ],
             [
              0.8888888888888888,
              "#fdca26"
             ],
             [
              1,
              "#f0f921"
             ]
            ],
            "type": "contour"
           }
          ],
          "contourcarpet": [
           {
            "colorbar": {
             "outlinewidth": 0,
             "ticks": ""
            },
            "type": "contourcarpet"
           }
          ],
          "heatmap": [
           {
            "colorbar": {
             "outlinewidth": 0,
             "ticks": ""
            },
            "colorscale": [
             [
              0,
              "#0d0887"
             ],
             [
              0.1111111111111111,
              "#46039f"
             ],
             [
              0.2222222222222222,
              "#7201a8"
             ],
             [
              0.3333333333333333,
              "#9c179e"
             ],
             [
              0.4444444444444444,
              "#bd3786"
             ],
             [
              0.5555555555555556,
              "#d8576b"
             ],
             [
              0.6666666666666666,
              "#ed7953"
             ],
             [
              0.7777777777777778,
              "#fb9f3a"
             ],
             [
              0.8888888888888888,
              "#fdca26"
             ],
             [
              1,
              "#f0f921"
             ]
            ],
            "type": "heatmap"
           }
          ],
          "heatmapgl": [
           {
            "colorbar": {
             "outlinewidth": 0,
             "ticks": ""
            },
            "colorscale": [
             [
              0,
              "#0d0887"
             ],
             [
              0.1111111111111111,
              "#46039f"
             ],
             [
              0.2222222222222222,
              "#7201a8"
             ],
             [
              0.3333333333333333,
              "#9c179e"
             ],
             [
              0.4444444444444444,
              "#bd3786"
             ],
             [
              0.5555555555555556,
              "#d8576b"
             ],
             [
              0.6666666666666666,
              "#ed7953"
             ],
             [
              0.7777777777777778,
              "#fb9f3a"
             ],
             [
              0.8888888888888888,
              "#fdca26"
             ],
             [
              1,
              "#f0f921"
             ]
            ],
            "type": "heatmapgl"
           }
          ],
          "histogram": [
           {
            "marker": {
             "pattern": {
              "fillmode": "overlay",
              "size": 10,
              "solidity": 0.2
             }
            },
            "type": "histogram"
           }
          ],
          "histogram2d": [
           {
            "colorbar": {
             "outlinewidth": 0,
             "ticks": ""
            },
            "colorscale": [
             [
              0,
              "#0d0887"
             ],
             [
              0.1111111111111111,
              "#46039f"
             ],
             [
              0.2222222222222222,
              "#7201a8"
             ],
             [
              0.3333333333333333,
              "#9c179e"
             ],
             [
              0.4444444444444444,
              "#bd3786"
             ],
             [
              0.5555555555555556,
              "#d8576b"
             ],
             [
              0.6666666666666666,
              "#ed7953"
             ],
             [
              0.7777777777777778,
              "#fb9f3a"
             ],
             [
              0.8888888888888888,
              "#fdca26"
             ],
             [
              1,
              "#f0f921"
             ]
            ],
            "type": "histogram2d"
           }
          ],
          "histogram2dcontour": [
           {
            "colorbar": {
             "outlinewidth": 0,
             "ticks": ""
            },
            "colorscale": [
             [
              0,
              "#0d0887"
             ],
             [
              0.1111111111111111,
              "#46039f"
             ],
             [
              0.2222222222222222,
              "#7201a8"
             ],
             [
              0.3333333333333333,
              "#9c179e"
             ],
             [
              0.4444444444444444,
              "#bd3786"
             ],
             [
              0.5555555555555556,
              "#d8576b"
             ],
             [
              0.6666666666666666,
              "#ed7953"
             ],
             [
              0.7777777777777778,
              "#fb9f3a"
             ],
             [
              0.8888888888888888,
              "#fdca26"
             ],
             [
              1,
              "#f0f921"
             ]
            ],
            "type": "histogram2dcontour"
           }
          ],
          "mesh3d": [
           {
            "colorbar": {
             "outlinewidth": 0,
             "ticks": ""
            },
            "type": "mesh3d"
           }
          ],
          "parcoords": [
           {
            "line": {
             "colorbar": {
              "outlinewidth": 0,
              "ticks": ""
             }
            },
            "type": "parcoords"
           }
          ],
          "pie": [
           {
            "automargin": true,
            "type": "pie"
           }
          ],
          "scatter": [
           {
            "fillpattern": {
             "fillmode": "overlay",
             "size": 10,
             "solidity": 0.2
            },
            "type": "scatter"
           }
          ],
          "scatter3d": [
           {
            "line": {
             "colorbar": {
              "outlinewidth": 0,
              "ticks": ""
             }
            },
            "marker": {
             "colorbar": {
              "outlinewidth": 0,
              "ticks": ""
             }
            },
            "type": "scatter3d"
           }
          ],
          "scattercarpet": [
           {
            "marker": {
             "colorbar": {
              "outlinewidth": 0,
              "ticks": ""
             }
            },
            "type": "scattercarpet"
           }
          ],
          "scattergeo": [
           {
            "marker": {
             "colorbar": {
              "outlinewidth": 0,
              "ticks": ""
             }
            },
            "type": "scattergeo"
           }
          ],
          "scattergl": [
           {
            "marker": {
             "colorbar": {
              "outlinewidth": 0,
              "ticks": ""
             }
            },
            "type": "scattergl"
           }
          ],
          "scattermapbox": [
           {
            "marker": {
             "colorbar": {
              "outlinewidth": 0,
              "ticks": ""
             }
            },
            "type": "scattermapbox"
           }
          ],
          "scatterpolar": [
           {
            "marker": {
             "colorbar": {
              "outlinewidth": 0,
              "ticks": ""
             }
            },
            "type": "scatterpolar"
           }
          ],
          "scatterpolargl": [
           {
            "marker": {
             "colorbar": {
              "outlinewidth": 0,
              "ticks": ""
             }
            },
            "type": "scatterpolargl"
           }
          ],
          "scatterternary": [
           {
            "marker": {
             "colorbar": {
              "outlinewidth": 0,
              "ticks": ""
             }
            },
            "type": "scatterternary"
           }
          ],
          "surface": [
           {
            "colorbar": {
             "outlinewidth": 0,
             "ticks": ""
            },
            "colorscale": [
             [
              0,
              "#0d0887"
             ],
             [
              0.1111111111111111,
              "#46039f"
             ],
             [
              0.2222222222222222,
              "#7201a8"
             ],
             [
              0.3333333333333333,
              "#9c179e"
             ],
             [
              0.4444444444444444,
              "#bd3786"
             ],
             [
              0.5555555555555556,
              "#d8576b"
             ],
             [
              0.6666666666666666,
              "#ed7953"
             ],
             [
              0.7777777777777778,
              "#fb9f3a"
             ],
             [
              0.8888888888888888,
              "#fdca26"
             ],
             [
              1,
              "#f0f921"
             ]
            ],
            "type": "surface"
           }
          ],
          "table": [
           {
            "cells": {
             "fill": {
              "color": "#EBF0F8"
             },
             "line": {
              "color": "white"
             }
            },
            "header": {
             "fill": {
              "color": "#C8D4E3"
             },
             "line": {
              "color": "white"
             }
            },
            "type": "table"
           }
          ]
         },
         "layout": {
          "annotationdefaults": {
           "arrowcolor": "#2a3f5f",
           "arrowhead": 0,
           "arrowwidth": 1
          },
          "autotypenumbers": "strict",
          "coloraxis": {
           "colorbar": {
            "outlinewidth": 0,
            "ticks": ""
           }
          },
          "colorscale": {
           "diverging": [
            [
             0,
             "#8e0152"
            ],
            [
             0.1,
             "#c51b7d"
            ],
            [
             0.2,
             "#de77ae"
            ],
            [
             0.3,
             "#f1b6da"
            ],
            [
             0.4,
             "#fde0ef"
            ],
            [
             0.5,
             "#f7f7f7"
            ],
            [
             0.6,
             "#e6f5d0"
            ],
            [
             0.7,
             "#b8e186"
            ],
            [
             0.8,
             "#7fbc41"
            ],
            [
             0.9,
             "#4d9221"
            ],
            [
             1,
             "#276419"
            ]
           ],
           "sequential": [
            [
             0,
             "#0d0887"
            ],
            [
             0.1111111111111111,
             "#46039f"
            ],
            [
             0.2222222222222222,
             "#7201a8"
            ],
            [
             0.3333333333333333,
             "#9c179e"
            ],
            [
             0.4444444444444444,
             "#bd3786"
            ],
            [
             0.5555555555555556,
             "#d8576b"
            ],
            [
             0.6666666666666666,
             "#ed7953"
            ],
            [
             0.7777777777777778,
             "#fb9f3a"
            ],
            [
             0.8888888888888888,
             "#fdca26"
            ],
            [
             1,
             "#f0f921"
            ]
           ],
           "sequentialminus": [
            [
             0,
             "#0d0887"
            ],
            [
             0.1111111111111111,
             "#46039f"
            ],
            [
             0.2222222222222222,
             "#7201a8"
            ],
            [
             0.3333333333333333,
             "#9c179e"
            ],
            [
             0.4444444444444444,
             "#bd3786"
            ],
            [
             0.5555555555555556,
             "#d8576b"
            ],
            [
             0.6666666666666666,
             "#ed7953"
            ],
            [
             0.7777777777777778,
             "#fb9f3a"
            ],
            [
             0.8888888888888888,
             "#fdca26"
            ],
            [
             1,
             "#f0f921"
            ]
           ]
          },
          "colorway": [
           "#636efa",
           "#EF553B",
           "#00cc96",
           "#ab63fa",
           "#FFA15A",
           "#19d3f3",
           "#FF6692",
           "#B6E880",
           "#FF97FF",
           "#FECB52"
          ],
          "font": {
           "color": "#2a3f5f"
          },
          "geo": {
           "bgcolor": "white",
           "lakecolor": "white",
           "landcolor": "#E5ECF6",
           "showlakes": true,
           "showland": true,
           "subunitcolor": "white"
          },
          "hoverlabel": {
           "align": "left"
          },
          "hovermode": "closest",
          "mapbox": {
           "style": "light"
          },
          "paper_bgcolor": "white",
          "plot_bgcolor": "#E5ECF6",
          "polar": {
           "angularaxis": {
            "gridcolor": "white",
            "linecolor": "white",
            "ticks": ""
           },
           "bgcolor": "#E5ECF6",
           "radialaxis": {
            "gridcolor": "white",
            "linecolor": "white",
            "ticks": ""
           }
          },
          "scene": {
           "xaxis": {
            "backgroundcolor": "#E5ECF6",
            "gridcolor": "white",
            "gridwidth": 2,
            "linecolor": "white",
            "showbackground": true,
            "ticks": "",
            "zerolinecolor": "white"
           },
           "yaxis": {
            "backgroundcolor": "#E5ECF6",
            "gridcolor": "white",
            "gridwidth": 2,
            "linecolor": "white",
            "showbackground": true,
            "ticks": "",
            "zerolinecolor": "white"
           },
           "zaxis": {
            "backgroundcolor": "#E5ECF6",
            "gridcolor": "white",
            "gridwidth": 2,
            "linecolor": "white",
            "showbackground": true,
            "ticks": "",
            "zerolinecolor": "white"
           }
          },
          "shapedefaults": {
           "line": {
            "color": "#2a3f5f"
           }
          },
          "ternary": {
           "aaxis": {
            "gridcolor": "white",
            "linecolor": "white",
            "ticks": ""
           },
           "baxis": {
            "gridcolor": "white",
            "linecolor": "white",
            "ticks": ""
           },
           "bgcolor": "#E5ECF6",
           "caxis": {
            "gridcolor": "white",
            "linecolor": "white",
            "ticks": ""
           }
          },
          "title": {
           "x": 0.05
          },
          "xaxis": {
           "automargin": true,
           "gridcolor": "white",
           "linecolor": "white",
           "ticks": "",
           "title": {
            "standoff": 15
           },
           "zerolinecolor": "white",
           "zerolinewidth": 2
          },
          "yaxis": {
           "automargin": true,
           "gridcolor": "white",
           "linecolor": "white",
           "ticks": "",
           "title": {
            "standoff": 15
           },
           "zerolinecolor": "white",
           "zerolinewidth": 2
          }
         }
        },
        "title": {
         "text": "EV Charging Points Growth in Europe (2010-2024)"
        },
        "xaxis": {
         "anchor": "y",
         "domain": [
          0,
          1
         ],
         "title": {
          "text": "Year"
         }
        },
        "yaxis": {
         "anchor": "x",
         "domain": [
          0,
          1
         ],
         "title": {
          "text": "Charging Points"
         }
        }
       }
      }
     },
     "metadata": {},
     "output_type": "display_data"
    }
   ],
   "source": [
    "# List of European countries\n",
    "Europe = [\n",
    "    'Austria', 'Belgium', 'Bulgaria', 'Croatia', 'Cyprus', 'Czech Republic',\n",
    "    'Denmark', 'Estonia', 'Finland', 'France', 'Germany', 'Greece', 'Hungary',\n",
    "    'Ireland', 'Italy', 'Latvia', 'Lithuania', 'Luxembourg', 'Malta',\n",
    "    'Netherlands', 'Norway', 'Poland', 'Portugal', 'Romania', 'Slovakia',\n",
    "    'Slovenia', 'Spain', 'Sweden', 'Switzerland', 'United Kingdom'\n",
    "]\n",
    "\n",
    "# Filter for charging points in all European countries\n",
    "df_europe_charging = df[\n",
    "    (df['unit'] == 'charging points') &\n",
    "    (df['region_country'].isin(Europe))\n",
    "].copy()\n",
    "\n",
    "# Add a text label column for data labels\n",
    "df_europe_charging['text_label'] = df_europe_charging['value'].apply(lambda x: f\"{int(x):,}\")\n",
    "\n",
    "# Plot charging points trend with markers and data labels\n",
    "fig = px.line(\n",
    "    df_europe_charging,\n",
    "    x='year',\n",
    "    y='value',\n",
    "    color='region_country',\n",
    "    markers=True,\n",
    "    text='text_label',  # display the data labels\n",
    "    title='EV Charging Points Growth in Europe (2010-2024)',\n",
    "    labels={'value': 'Charging Points', 'year': 'Year', 'region_country': 'Country'}\n",
    ")\n",
    "\n",
    "# Adjust label position slightly above markers\n",
    "fig.update_traces(textposition='top center')\n",
    "\n",
    "fig.show()\n"
   ]
  },
  {
   "cell_type": "code",
   "execution_count": 55,
   "id": "f2d8eb7f",
   "metadata": {},
   "outputs": [
    {
     "data": {
      "application/vnd.plotly.v1+json": {
       "config": {
        "plotlyServerURL": "https://plot.ly"
       },
       "data": [
        {
         "hovertemplate": "Year=%{x}<br>Charging Points=%{y}<br>text_label=%{text}<extra></extra>",
         "legendgroup": "",
         "line": {
          "color": "#636efa",
          "dash": "solid"
         },
         "marker": {
          "symbol": "circle"
         },
         "mode": "lines+markers+text",
         "name": "",
         "orientation": "v",
         "showlegend": false,
         "text": [
          "180,000",
          "140,000",
          "120,000",
          "81,000",
          "63,000",
          "46,000",
          "36,000",
          "33,000",
          "32,000",
          "18,000",
          "12,000",
          "8,000",
          "5,800",
          "5,000",
          "4,500",
          "2,800",
          "2,800",
          "2,300",
          "1,300",
          "820",
          "410",
          "400",
          "400",
          "400",
          "220",
          "120",
          "21",
          "21"
         ],
         "textposition": "top center",
         "type": "scatter",
         "x": [
          2024,
          2023,
          2022,
          2021,
          2020,
          2019,
          2018,
          2017,
          2016,
          2015,
          2014,
          2024,
          2013,
          2023,
          2022,
          2012,
          2021,
          2020,
          2019,
          2018,
          2017,
          2010,
          2011,
          2016,
          2015,
          2014,
          2012,
          2013
         ],
         "xaxis": "x",
         "y": [
          180000,
          140000,
          120000,
          81000,
          63000,
          46000,
          36000,
          33000,
          32000,
          18000,
          12000,
          8000,
          5800,
          5000,
          4500,
          2800,
          2800,
          2300,
          1300,
          820,
          410,
          400,
          400,
          400,
          220,
          120,
          21,
          21
         ],
         "yaxis": "y"
        }
       ],
       "layout": {
        "legend": {
         "tracegroupgap": 0
        },
        "template": {
         "data": {
          "bar": [
           {
            "error_x": {
             "color": "#2a3f5f"
            },
            "error_y": {
             "color": "#2a3f5f"
            },
            "marker": {
             "line": {
              "color": "#E5ECF6",
              "width": 0.5
             },
             "pattern": {
              "fillmode": "overlay",
              "size": 10,
              "solidity": 0.2
             }
            },
            "type": "bar"
           }
          ],
          "barpolar": [
           {
            "marker": {
             "line": {
              "color": "#E5ECF6",
              "width": 0.5
             },
             "pattern": {
              "fillmode": "overlay",
              "size": 10,
              "solidity": 0.2
             }
            },
            "type": "barpolar"
           }
          ],
          "carpet": [
           {
            "aaxis": {
             "endlinecolor": "#2a3f5f",
             "gridcolor": "white",
             "linecolor": "white",
             "minorgridcolor": "white",
             "startlinecolor": "#2a3f5f"
            },
            "baxis": {
             "endlinecolor": "#2a3f5f",
             "gridcolor": "white",
             "linecolor": "white",
             "minorgridcolor": "white",
             "startlinecolor": "#2a3f5f"
            },
            "type": "carpet"
           }
          ],
          "choropleth": [
           {
            "colorbar": {
             "outlinewidth": 0,
             "ticks": ""
            },
            "type": "choropleth"
           }
          ],
          "contour": [
           {
            "colorbar": {
             "outlinewidth": 0,
             "ticks": ""
            },
            "colorscale": [
             [
              0,
              "#0d0887"
             ],
             [
              0.1111111111111111,
              "#46039f"
             ],
             [
              0.2222222222222222,
              "#7201a8"
             ],
             [
              0.3333333333333333,
              "#9c179e"
             ],
             [
              0.4444444444444444,
              "#bd3786"
             ],
             [
              0.5555555555555556,
              "#d8576b"
             ],
             [
              0.6666666666666666,
              "#ed7953"
             ],
             [
              0.7777777777777778,
              "#fb9f3a"
             ],
             [
              0.8888888888888888,
              "#fdca26"
             ],
             [
              1,
              "#f0f921"
             ]
            ],
            "type": "contour"
           }
          ],
          "contourcarpet": [
           {
            "colorbar": {
             "outlinewidth": 0,
             "ticks": ""
            },
            "type": "contourcarpet"
           }
          ],
          "heatmap": [
           {
            "colorbar": {
             "outlinewidth": 0,
             "ticks": ""
            },
            "colorscale": [
             [
              0,
              "#0d0887"
             ],
             [
              0.1111111111111111,
              "#46039f"
             ],
             [
              0.2222222222222222,
              "#7201a8"
             ],
             [
              0.3333333333333333,
              "#9c179e"
             ],
             [
              0.4444444444444444,
              "#bd3786"
             ],
             [
              0.5555555555555556,
              "#d8576b"
             ],
             [
              0.6666666666666666,
              "#ed7953"
             ],
             [
              0.7777777777777778,
              "#fb9f3a"
             ],
             [
              0.8888888888888888,
              "#fdca26"
             ],
             [
              1,
              "#f0f921"
             ]
            ],
            "type": "heatmap"
           }
          ],
          "heatmapgl": [
           {
            "colorbar": {
             "outlinewidth": 0,
             "ticks": ""
            },
            "colorscale": [
             [
              0,
              "#0d0887"
             ],
             [
              0.1111111111111111,
              "#46039f"
             ],
             [
              0.2222222222222222,
              "#7201a8"
             ],
             [
              0.3333333333333333,
              "#9c179e"
             ],
             [
              0.4444444444444444,
              "#bd3786"
             ],
             [
              0.5555555555555556,
              "#d8576b"
             ],
             [
              0.6666666666666666,
              "#ed7953"
             ],
             [
              0.7777777777777778,
              "#fb9f3a"
             ],
             [
              0.8888888888888888,
              "#fdca26"
             ],
             [
              1,
              "#f0f921"
             ]
            ],
            "type": "heatmapgl"
           }
          ],
          "histogram": [
           {
            "marker": {
             "pattern": {
              "fillmode": "overlay",
              "size": 10,
              "solidity": 0.2
             }
            },
            "type": "histogram"
           }
          ],
          "histogram2d": [
           {
            "colorbar": {
             "outlinewidth": 0,
             "ticks": ""
            },
            "colorscale": [
             [
              0,
              "#0d0887"
             ],
             [
              0.1111111111111111,
              "#46039f"
             ],
             [
              0.2222222222222222,
              "#7201a8"
             ],
             [
              0.3333333333333333,
              "#9c179e"
             ],
             [
              0.4444444444444444,
              "#bd3786"
             ],
             [
              0.5555555555555556,
              "#d8576b"
             ],
             [
              0.6666666666666666,
              "#ed7953"
             ],
             [
              0.7777777777777778,
              "#fb9f3a"
             ],
             [
              0.8888888888888888,
              "#fdca26"
             ],
             [
              1,
              "#f0f921"
             ]
            ],
            "type": "histogram2d"
           }
          ],
          "histogram2dcontour": [
           {
            "colorbar": {
             "outlinewidth": 0,
             "ticks": ""
            },
            "colorscale": [
             [
              0,
              "#0d0887"
             ],
             [
              0.1111111111111111,
              "#46039f"
             ],
             [
              0.2222222222222222,
              "#7201a8"
             ],
             [
              0.3333333333333333,
              "#9c179e"
             ],
             [
              0.4444444444444444,
              "#bd3786"
             ],
             [
              0.5555555555555556,
              "#d8576b"
             ],
             [
              0.6666666666666666,
              "#ed7953"
             ],
             [
              0.7777777777777778,
              "#fb9f3a"
             ],
             [
              0.8888888888888888,
              "#fdca26"
             ],
             [
              1,
              "#f0f921"
             ]
            ],
            "type": "histogram2dcontour"
           }
          ],
          "mesh3d": [
           {
            "colorbar": {
             "outlinewidth": 0,
             "ticks": ""
            },
            "type": "mesh3d"
           }
          ],
          "parcoords": [
           {
            "line": {
             "colorbar": {
              "outlinewidth": 0,
              "ticks": ""
             }
            },
            "type": "parcoords"
           }
          ],
          "pie": [
           {
            "automargin": true,
            "type": "pie"
           }
          ],
          "scatter": [
           {
            "fillpattern": {
             "fillmode": "overlay",
             "size": 10,
             "solidity": 0.2
            },
            "type": "scatter"
           }
          ],
          "scatter3d": [
           {
            "line": {
             "colorbar": {
              "outlinewidth": 0,
              "ticks": ""
             }
            },
            "marker": {
             "colorbar": {
              "outlinewidth": 0,
              "ticks": ""
             }
            },
            "type": "scatter3d"
           }
          ],
          "scattercarpet": [
           {
            "marker": {
             "colorbar": {
              "outlinewidth": 0,
              "ticks": ""
             }
            },
            "type": "scattercarpet"
           }
          ],
          "scattergeo": [
           {
            "marker": {
             "colorbar": {
              "outlinewidth": 0,
              "ticks": ""
             }
            },
            "type": "scattergeo"
           }
          ],
          "scattergl": [
           {
            "marker": {
             "colorbar": {
              "outlinewidth": 0,
              "ticks": ""
             }
            },
            "type": "scattergl"
           }
          ],
          "scattermapbox": [
           {
            "marker": {
             "colorbar": {
              "outlinewidth": 0,
              "ticks": ""
             }
            },
            "type": "scattermapbox"
           }
          ],
          "scatterpolar": [
           {
            "marker": {
             "colorbar": {
              "outlinewidth": 0,
              "ticks": ""
             }
            },
            "type": "scatterpolar"
           }
          ],
          "scatterpolargl": [
           {
            "marker": {
             "colorbar": {
              "outlinewidth": 0,
              "ticks": ""
             }
            },
            "type": "scatterpolargl"
           }
          ],
          "scatterternary": [
           {
            "marker": {
             "colorbar": {
              "outlinewidth": 0,
              "ticks": ""
             }
            },
            "type": "scatterternary"
           }
          ],
          "surface": [
           {
            "colorbar": {
             "outlinewidth": 0,
             "ticks": ""
            },
            "colorscale": [
             [
              0,
              "#0d0887"
             ],
             [
              0.1111111111111111,
              "#46039f"
             ],
             [
              0.2222222222222222,
              "#7201a8"
             ],
             [
              0.3333333333333333,
              "#9c179e"
             ],
             [
              0.4444444444444444,
              "#bd3786"
             ],
             [
              0.5555555555555556,
              "#d8576b"
             ],
             [
              0.6666666666666666,
              "#ed7953"
             ],
             [
              0.7777777777777778,
              "#fb9f3a"
             ],
             [
              0.8888888888888888,
              "#fdca26"
             ],
             [
              1,
              "#f0f921"
             ]
            ],
            "type": "surface"
           }
          ],
          "table": [
           {
            "cells": {
             "fill": {
              "color": "#EBF0F8"
             },
             "line": {
              "color": "white"
             }
            },
            "header": {
             "fill": {
              "color": "#C8D4E3"
             },
             "line": {
              "color": "white"
             }
            },
            "type": "table"
           }
          ]
         },
         "layout": {
          "annotationdefaults": {
           "arrowcolor": "#2a3f5f",
           "arrowhead": 0,
           "arrowwidth": 1
          },
          "autotypenumbers": "strict",
          "coloraxis": {
           "colorbar": {
            "outlinewidth": 0,
            "ticks": ""
           }
          },
          "colorscale": {
           "diverging": [
            [
             0,
             "#8e0152"
            ],
            [
             0.1,
             "#c51b7d"
            ],
            [
             0.2,
             "#de77ae"
            ],
            [
             0.3,
             "#f1b6da"
            ],
            [
             0.4,
             "#fde0ef"
            ],
            [
             0.5,
             "#f7f7f7"
            ],
            [
             0.6,
             "#e6f5d0"
            ],
            [
             0.7,
             "#b8e186"
            ],
            [
             0.8,
             "#7fbc41"
            ],
            [
             0.9,
             "#4d9221"
            ],
            [
             1,
             "#276419"
            ]
           ],
           "sequential": [
            [
             0,
             "#0d0887"
            ],
            [
             0.1111111111111111,
             "#46039f"
            ],
            [
             0.2222222222222222,
             "#7201a8"
            ],
            [
             0.3333333333333333,
             "#9c179e"
            ],
            [
             0.4444444444444444,
             "#bd3786"
            ],
            [
             0.5555555555555556,
             "#d8576b"
            ],
            [
             0.6666666666666666,
             "#ed7953"
            ],
            [
             0.7777777777777778,
             "#fb9f3a"
            ],
            [
             0.8888888888888888,
             "#fdca26"
            ],
            [
             1,
             "#f0f921"
            ]
           ],
           "sequentialminus": [
            [
             0,
             "#0d0887"
            ],
            [
             0.1111111111111111,
             "#46039f"
            ],
            [
             0.2222222222222222,
             "#7201a8"
            ],
            [
             0.3333333333333333,
             "#9c179e"
            ],
            [
             0.4444444444444444,
             "#bd3786"
            ],
            [
             0.5555555555555556,
             "#d8576b"
            ],
            [
             0.6666666666666666,
             "#ed7953"
            ],
            [
             0.7777777777777778,
             "#fb9f3a"
            ],
            [
             0.8888888888888888,
             "#fdca26"
            ],
            [
             1,
             "#f0f921"
            ]
           ]
          },
          "colorway": [
           "#636efa",
           "#EF553B",
           "#00cc96",
           "#ab63fa",
           "#FFA15A",
           "#19d3f3",
           "#FF6692",
           "#B6E880",
           "#FF97FF",
           "#FECB52"
          ],
          "font": {
           "color": "#2a3f5f"
          },
          "geo": {
           "bgcolor": "white",
           "lakecolor": "white",
           "landcolor": "#E5ECF6",
           "showlakes": true,
           "showland": true,
           "subunitcolor": "white"
          },
          "hoverlabel": {
           "align": "left"
          },
          "hovermode": "closest",
          "mapbox": {
           "style": "light"
          },
          "paper_bgcolor": "white",
          "plot_bgcolor": "#E5ECF6",
          "polar": {
           "angularaxis": {
            "gridcolor": "white",
            "linecolor": "white",
            "ticks": ""
           },
           "bgcolor": "#E5ECF6",
           "radialaxis": {
            "gridcolor": "white",
            "linecolor": "white",
            "ticks": ""
           }
          },
          "scene": {
           "xaxis": {
            "backgroundcolor": "#E5ECF6",
            "gridcolor": "white",
            "gridwidth": 2,
            "linecolor": "white",
            "showbackground": true,
            "ticks": "",
            "zerolinecolor": "white"
           },
           "yaxis": {
            "backgroundcolor": "#E5ECF6",
            "gridcolor": "white",
            "gridwidth": 2,
            "linecolor": "white",
            "showbackground": true,
            "ticks": "",
            "zerolinecolor": "white"
           },
           "zaxis": {
            "backgroundcolor": "#E5ECF6",
            "gridcolor": "white",
            "gridwidth": 2,
            "linecolor": "white",
            "showbackground": true,
            "ticks": "",
            "zerolinecolor": "white"
           }
          },
          "shapedefaults": {
           "line": {
            "color": "#2a3f5f"
           }
          },
          "ternary": {
           "aaxis": {
            "gridcolor": "white",
            "linecolor": "white",
            "ticks": ""
           },
           "baxis": {
            "gridcolor": "white",
            "linecolor": "white",
            "ticks": ""
           },
           "bgcolor": "#E5ECF6",
           "caxis": {
            "gridcolor": "white",
            "linecolor": "white",
            "ticks": ""
           }
          },
          "title": {
           "x": 0.05
          },
          "xaxis": {
           "automargin": true,
           "gridcolor": "white",
           "linecolor": "white",
           "ticks": "",
           "title": {
            "standoff": 15
           },
           "zerolinecolor": "white",
           "zerolinewidth": 2
          },
          "yaxis": {
           "automargin": true,
           "gridcolor": "white",
           "linecolor": "white",
           "ticks": "",
           "title": {
            "standoff": 15
           },
           "zerolinecolor": "white",
           "zerolinewidth": 2
          }
         }
        },
        "title": {
         "text": "Netherlands: EV Charging Points (2010-2024)"
        },
        "xaxis": {
         "anchor": "y",
         "domain": [
          0,
          1
         ],
         "title": {
          "text": "Year"
         }
        },
        "yaxis": {
         "anchor": "x",
         "domain": [
          0,
          1
         ],
         "title": {
          "text": "Charging Points"
         }
        }
       }
      }
     },
     "metadata": {},
     "output_type": "display_data"
    }
   ],
   "source": [
    "# Filter for Netherlands charging points\n",
    "df_netherlands_charging = df[\n",
    "    (df['unit'] == 'charging points') &\n",
    "    (df['region_country'] == 'Netherlands')\n",
    "].copy()\n",
    "\n",
    "# Add a text column for data labels\n",
    "df_netherlands_charging['text_label'] = df_netherlands_charging['value'].apply(lambda x: f\"{int(x):,}\")\n",
    "\n",
    "# Plot Netherlands charging points trend with markers and labels\n",
    "fig = px.line(\n",
    "    df_netherlands_charging,\n",
    "    x='year',\n",
    "    y='value',\n",
    "    markers=True,\n",
    "    text='text_label',  # show numbers on the chart\n",
    "    title='Netherlands: EV Charging Points (2010-2024)',\n",
    "    labels={'value': 'Charging Points', 'year': 'Year'}\n",
    ")\n",
    "\n",
    "# Adjust label position slightly above the markers\n",
    "fig.update_traces(textposition='top center')\n",
    "\n",
    "fig.show()\n"
   ]
  },
  {
   "cell_type": "code",
   "execution_count": null,
   "id": "c2bbb2ec",
   "metadata": {},
   "outputs": [
    {
     "data": {
      "image/png": "[encoded data removed]",
      "text/plain": [
       "<Figure size 1400x600 with 1 Axes>"
      ]
     },
     "metadata": {},
     "output_type": "display_data"
    }
   ],
   "source": [
    "# Filter for BEV cars, historical data, Germany & Netherlands\n",
    "df_bev = df[\n",
    "    (df['powertrain'] == 'BEV') &\n",
    "    (df['category'] == 'Historical') &\n",
    "    (df['region_country'].isin(['Germany', 'Netherlands']))\n",
    "]\n",
    "\n",
    "# Pivot to have countries as rows, years as columns\n",
    "pivot_compare = df_bev.pivot_table(\n",
    "    index='region_country',\n",
    "    columns='year',\n",
    "    values='value',\n",
    "    aggfunc='sum',\n",
    "    fill_value=0\n",
    ")\n",
    "\n",
    "# Prepare data for bar plot in long format\n",
    "df_plot = pivot_compare.reset_index().melt(id_vars='region_country', var_name='Year', value_name='EVs')\n",
    "\n",
    "# Bar plot\n",
    "plt.figure(figsize=(14, 6))\n",
    "sns.barplot(\n",
    "    data=df_plot,\n",
    "    x='Year',\n",
    "    y='EVs',\n",
    "    hue='region_country',\n",
    "    palette=['#1f77b4', '#ff7f0e']  # Germany: dark blue, Netherlands: orange\n",
    ")\n",
    "\n",
    "# Add data labels\n",
    "for i, row in df_plot.iterrows():\n",
    "    plt.text(\n",
    "        x=i % len(pivot_compare.columns),  # position within group\n",
    "        y=row['EVs'] + max(df_plot['EVs'])*0.01,\n",
    "        s=f\"{int(row['EVs']):,}\",\n",
    "        ha='center',\n",
    "        va='bottom',\n",
    "        fontsize=8,\n",
    "        rotation=90\n",
    "    )\n",
    "\n",
    "plt.title(\"EVs in Circulation: Germany vs Netherlands (2010-2024)\")\n",
    "plt.ylabel(\"Number of EVs\")\n",
    "plt.xlabel(\"Year\")\n",
    "plt.xticks(rotation=45)\n",
    "plt.legend(title='Country')\n",
    "plt.tight_layout()\n",
    "plt.show()\n"
   ]
  },
  {
   "cell_type": "code",
   "execution_count": 65,
   "id": "faab7b5a",
   "metadata": {},
   "outputs": [
    {
     "data": {
      "application/vnd.plotly.v1+json": {
       "config": {
        "plotlyServerURL": "https://plot.ly"
       },
       "data": [
        {
         "hovertemplate": "Country=Netherlands<br>Year=%{x}<br>Charging Points=%{y}<br>text_label=%{text}<extra></extra>",
         "legendgroup": "Netherlands",
         "line": {
          "color": "#636efa",
          "dash": "solid"
         },
         "marker": {
          "symbol": "circle"
         },
         "mode": "lines+markers+text",
         "name": "Netherlands",
         "orientation": "v",
         "showlegend": true,
         "text": [
          "180,000",
          "140,000",
          "120,000",
          "81,000",
          "63,000",
          "46,000",
          "36,000",
          "33,000",
          "32,000",
          "18,000",
          "12,000",
          "8,000",
          "5,800",
          "5,000",
          "4,500",
          "2,800",
          "2,800",
          "2,300",
          "1,300",
          "820",
          "410",
          "400",
          "400",
          "400",
          "220",
          "120",
          "21",
          "21"
         ],
         "textposition": "top center",
         "type": "scatter",
         "x": [
          2024,
          2023,
          2022,
          2021,
          2020,
          2019,
          2018,
          2017,
          2016,
          2015,
          2014,
          2024,
          2013,
          2023,
          2022,
          2012,
          2021,
          2020,
          2019,
          2018,
          2017,
          2010,
          2011,
          2016,
          2015,
          2014,
          2012,
          2013
         ],
         "xaxis": "x",
         "y": [
          180000,
          140000,
          120000,
          81000,
          63000,
          46000,
          36000,
          33000,
          32000,
          18000,
          12000,
          8000,
          5800,
          5000,
          4500,
          2800,
          2800,
          2300,
          1300,
          820,
          410,
          400,
          400,
          400,
          220,
          120,
          21,
          21
         ],
         "yaxis": "y"
        },
        {
         "hovertemplate": "Country=Germany<br>Year=%{x}<br>Charging Points=%{y}<br>text_label=%{text}<extra></extra>",
         "legendgroup": "Germany",
         "line": {
          "color": "#EF553B",
          "dash": "solid"
         },
         "marker": {
          "symbol": "circle"
         },
         "mode": "lines+markers+text",
         "name": "Germany",
         "orientation": "v",
         "showlegend": true,
         "text": [
          "120,000",
          "87,000",
          "71,000",
          "50,000",
          "37,000",
          "37,000",
          "26,000",
          "23,000",
          "17,000",
          "15,000",
          "9,500",
          "9,400",
          "6,300",
          "5,800",
          "4,600",
          "3,200",
          "2,900",
          "2,600",
          "2,400",
          "2,200",
          "1,700",
          "1,500",
          "470",
          "120",
          "47",
          "18"
         ],
         "textposition": "top center",
         "type": "scatter",
         "x": [
          2024,
          2023,
          2022,
          2021,
          2020,
          2024,
          2019,
          2023,
          2018,
          2022,
          2021,
          2017,
          2020,
          2016,
          2015,
          2019,
          2018,
          2014,
          2013,
          2017,
          2016,
          2012,
          2015,
          2014,
          2013,
          2012
         ],
         "xaxis": "x",
         "y": [
          120000,
          87000,
          71000,
          50000,
          37000,
          37000,
          26000,
          23000,
          17000,
          15000,
          9500,
          9400,
          6300,
          5800,
          4600,
          3200,
          2900,
          2600,
          2400,
          2200,
          1700,
          1500,
          470,
          120,
          47,
          18
         ],
         "yaxis": "y"
        }
       ],
       "layout": {
        "legend": {
         "title": {
          "text": "Country"
         },
         "tracegroupgap": 0
        },
        "template": {
         "data": {
          "bar": [
           {
            "error_x": {
             "color": "#2a3f5f"
            },
            "error_y": {
             "color": "#2a3f5f"
            },
            "marker": {
             "line": {
              "color": "#E5ECF6",
              "width": 0.5
             },
             "pattern": {
              "fillmode": "overlay",
              "size": 10,
              "solidity": 0.2
             }
            },
            "type": "bar"
           }
          ],
          "barpolar": [
           {
            "marker": {
             "line": {
              "color": "#E5ECF6",
              "width": 0.5
             },
             "pattern": {
              "fillmode": "overlay",
              "size": 10,
              "solidity": 0.2
             }
            },
            "type": "barpolar"
           }
          ],
          "carpet": [
           {
            "aaxis": {
             "endlinecolor": "#2a3f5f",
             "gridcolor": "white",
             "linecolor": "white",
             "minorgridcolor": "white",
             "startlinecolor": "#2a3f5f"
            },
            "baxis": {
             "endlinecolor": "#2a3f5f",
             "gridcolor": "white",
             "linecolor": "white",
             "minorgridcolor": "white",
             "startlinecolor": "#2a3f5f"
            },
            "type": "carpet"
           }
          ],
          "choropleth": [
           {
            "colorbar": {
             "outlinewidth": 0,
             "ticks": ""
            },
            "type": "choropleth"
           }
          ],
          "contour": [
           {
            "colorbar": {
             "outlinewidth": 0,
             "ticks": ""
            },
            "colorscale": [
             [
              0,
              "#0d0887"
             ],
             [
              0.1111111111111111,
              "#46039f"
             ],
             [
              0.2222222222222222,
              "#7201a8"
             ],
             [
              0.3333333333333333,
              "#9c179e"
             ],
             [
              0.4444444444444444,
              "#bd3786"
             ],
             [
              0.5555555555555556,
              "#d8576b"
             ],
             [
              0.6666666666666666,
              "#ed7953"
             ],
             [
              0.7777777777777778,
              "#fb9f3a"
             ],
             [
              0.8888888888888888,
              "#fdca26"
             ],
             [
              1,
              "#f0f921"
             ]
            ],
            "type": "contour"
           }
          ],
          "contourcarpet": [
           {
            "colorbar": {
             "outlinewidth": 0,
             "ticks": ""
            },
            "type": "contourcarpet"
           }
          ],
          "heatmap": [
           {
            "colorbar": {
             "outlinewidth": 0,
             "ticks": ""
            },
            "colorscale": [
             [
              0,
              "#0d0887"
             ],
             [
              0.1111111111111111,
              "#46039f"
             ],
             [
              0.2222222222222222,
              "#7201a8"
             ],
             [
              0.3333333333333333,
              "#9c179e"
             ],
             [
              0.4444444444444444,
              "#bd3786"
             ],
             [
              0.5555555555555556,
              "#d8576b"
             ],
             [
              0.6666666666666666,
              "#ed7953"
             ],
             [
              0.7777777777777778,
              "#fb9f3a"
             ],
             [
              0.8888888888888888,
              "#fdca26"
             ],
             [
              1,
              "#f0f921"
             ]
            ],
            "type": "heatmap"
           }
          ],
          "heatmapgl": [
           {
            "colorbar": {
             "outlinewidth": 0,
             "ticks": ""
            },
            "colorscale": [
             [
              0,
              "#0d0887"
             ],
             [
              0.1111111111111111,
              "#46039f"
             ],
             [
              0.2222222222222222,
              "#7201a8"
             ],
             [
              0.3333333333333333,
              "#9c179e"
             ],
             [
              0.4444444444444444,
              "#bd3786"
             ],
             [
              0.5555555555555556,
              "#d8576b"
             ],
             [
              0.6666666666666666,
              "#ed7953"
             ],
             [
              0.7777777777777778,
              "#fb9f3a"
             ],
             [
              0.8888888888888888,
              "#fdca26"
             ],
             [
              1,
              "#f0f921"
             ]
            ],
            "type": "heatmapgl"
           }
          ],
          "histogram": [
           {
            "marker": {
             "pattern": {
              "fillmode": "overlay",
              "size": 10,
              "solidity": 0.2
             }
            },
            "type": "histogram"
           }
          ],
          "histogram2d": [
           {
            "colorbar": {
             "outlinewidth": 0,
             "ticks": ""
            },
            "colorscale": [
             [
              0,
              "#0d0887"
             ],
             [
              0.1111111111111111,
              "#46039f"
             ],
             [
              0.2222222222222222,
              "#7201a8"
             ],
             [
              0.3333333333333333,
              "#9c179e"
             ],
             [
              0.4444444444444444,
              "#bd3786"
             ],
             [
              0.5555555555555556,
              "#d8576b"
             ],
             [
              0.6666666666666666,
              "#ed7953"
             ],
             [
              0.7777777777777778,
              "#fb9f3a"
             ],
             [
              0.8888888888888888,
              "#fdca26"
             ],
             [
              1,
              "#f0f921"
             ]
            ],
            "type": "histogram2d"
           }
          ],
          "histogram2dcontour": [
           {
            "colorbar": {
             "outlinewidth": 0,
             "ticks": ""
            },
            "colorscale": [
             [
              0,
              "#0d0887"
             ],
             [
              0.1111111111111111,
              "#46039f"
             ],
             [
              0.2222222222222222,
              "#7201a8"
             ],
             [
              0.3333333333333333,
              "#9c179e"
             ],
             [
              0.4444444444444444,
              "#bd3786"
             ],
             [
              0.5555555555555556,
              "#d8576b"
             ],
             [
              0.6666666666666666,
              "#ed7953"
             ],
             [
              0.7777777777777778,
              "#fb9f3a"
             ],
             [
              0.8888888888888888,
              "#fdca26"
             ],
             [
              1,
              "#f0f921"
             ]
            ],
            "type": "histogram2dcontour"
           }
          ],
          "mesh3d": [
           {
            "colorbar": {
             "outlinewidth": 0,
             "ticks": ""
            },
            "type": "mesh3d"
           }
          ],
          "parcoords": [
           {
            "line": {
             "colorbar": {
              "outlinewidth": 0,
              "ticks": ""
             }
            },
            "type": "parcoords"
           }
          ],
          "pie": [
           {
            "automargin": true,
            "type": "pie"
           }
          ],
          "scatter": [
           {
            "fillpattern": {
             "fillmode": "overlay",
             "size": 10,
             "solidity": 0.2
            },
            "type": "scatter"
           }
          ],
          "scatter3d": [
           {
            "line": {
             "colorbar": {
              "outlinewidth": 0,
              "ticks": ""
             }
            },
            "marker": {
             "colorbar": {
              "outlinewidth": 0,
              "ticks": ""
             }
            },
            "type": "scatter3d"
           }
          ],
          "scattercarpet": [
           {
            "marker": {
             "colorbar": {
              "outlinewidth": 0,
              "ticks": ""
             }
            },
            "type": "scattercarpet"
           }
          ],
          "scattergeo": [
           {
            "marker": {
             "colorbar": {
              "outlinewidth": 0,
              "ticks": ""
             }
            },
            "type": "scattergeo"
           }
          ],
          "scattergl": [
           {
            "marker": {
             "colorbar": {
              "outlinewidth": 0,
              "ticks": ""
             }
            },
            "type": "scattergl"
           }
          ],
          "scattermapbox": [
           {
            "marker": {
             "colorbar": {
              "outlinewidth": 0,
              "ticks": ""
             }
            },
            "type": "scattermapbox"
           }
          ],
          "scatterpolar": [
           {
            "marker": {
             "colorbar": {
              "outlinewidth": 0,
              "ticks": ""
             }
            },
            "type": "scatterpolar"
           }
          ],
          "scatterpolargl": [
           {
            "marker": {
             "colorbar": {
              "outlinewidth": 0,
              "ticks": ""
             }
            },
            "type": "scatterpolargl"
           }
          ],
          "scatterternary": [
           {
            "marker": {
             "colorbar": {
              "outlinewidth": 0,
              "ticks": ""
             }
            },
            "type": "scatterternary"
           }
          ],
          "surface": [
           {
            "colorbar": {
             "outlinewidth": 0,
             "ticks": ""
            },
            "colorscale": [
             [
              0,
              "#0d0887"
             ],
             [
              0.1111111111111111,
              "#46039f"
             ],
             [
              0.2222222222222222,
              "#7201a8"
             ],
             [
              0.3333333333333333,
              "#9c179e"
             ],
             [
              0.4444444444444444,
              "#bd3786"
             ],
             [
              0.5555555555555556,
              "#d8576b"
             ],
             [
              0.6666666666666666,
              "#ed7953"
             ],
             [
              0.7777777777777778,
              "#fb9f3a"
             ],
             [
              0.8888888888888888,
              "#fdca26"
             ],
             [
              1,
              "#f0f921"
             ]
            ],
            "type": "surface"
           }
          ],
          "table": [
           {
            "cells": {
             "fill": {
              "color": "#EBF0F8"
             },
             "line": {
              "color": "white"
             }
            },
            "header": {
             "fill": {
              "color": "#C8D4E3"
             },
             "line": {
              "color": "white"
             }
            },
            "type": "table"
           }
          ]
         },
         "layout": {
          "annotationdefaults": {
           "arrowcolor": "#2a3f5f",
           "arrowhead": 0,
           "arrowwidth": 1
          },
          "autotypenumbers": "strict",
          "coloraxis": {
           "colorbar": {
            "outlinewidth": 0,
            "ticks": ""
           }
          },
          "colorscale": {
           "diverging": [
            [
             0,
             "#8e0152"
            ],
            [
             0.1,
             "#c51b7d"
            ],
            [
             0.2,
             "#de77ae"
            ],
            [
             0.3,
             "#f1b6da"
            ],
            [
             0.4,
             "#fde0ef"
            ],
            [
             0.5,
             "#f7f7f7"
            ],
            [
             0.6,
             "#e6f5d0"
            ],
            [
             0.7,
             "#b8e186"
            ],
            [
             0.8,
             "#7fbc41"
            ],
            [
             0.9,
             "#4d9221"
            ],
            [
             1,
             "#276419"
            ]
           ],
           "sequential": [
            [
             0,
             "#0d0887"
            ],
            [
             0.1111111111111111,
             "#46039f"
            ],
            [
             0.2222222222222222,
             "#7201a8"
            ],
            [
             0.3333333333333333,
             "#9c179e"
            ],
            [
             0.4444444444444444,
             "#bd3786"
            ],
            [
             0.5555555555555556,
             "#d8576b"
            ],
            [
             0.6666666666666666,
             "#ed7953"
            ],
            [
             0.7777777777777778,
             "#fb9f3a"
            ],
            [
             0.8888888888888888,
             "#fdca26"
            ],
            [
             1,
             "#f0f921"
            ]
           ],
           "sequentialminus": [
            [
             0,
             "#0d0887"
            ],
            [
             0.1111111111111111,
             "#46039f"
            ],
            [
             0.2222222222222222,
             "#7201a8"
            ],
            [
             0.3333333333333333,
             "#9c179e"
            ],
            [
             0.4444444444444444,
             "#bd3786"
            ],
            [
             0.5555555555555556,
             "#d8576b"
            ],
            [
             0.6666666666666666,
             "#ed7953"
            ],
            [
             0.7777777777777778,
             "#fb9f3a"
            ],
            [
             0.8888888888888888,
             "#fdca26"
            ],
            [
             1,
             "#f0f921"
            ]
           ]
          },
          "colorway": [
           "#636efa",
           "#EF553B",
           "#00cc96",
           "#ab63fa",
           "#FFA15A",
           "#19d3f3",
           "#FF6692",
           "#B6E880",
           "#FF97FF",
           "#FECB52"
          ],
          "font": {
           "color": "#2a3f5f"
          },
          "geo": {
           "bgcolor": "white",
           "lakecolor": "white",
           "landcolor": "#E5ECF6",
           "showlakes": true,
           "showland": true,
           "subunitcolor": "white"
          },
          "hoverlabel": {
           "align": "left"
          },
          "hovermode": "closest",
          "mapbox": {
           "style": "light"
          },
          "paper_bgcolor": "white",
          "plot_bgcolor": "#E5ECF6",
          "polar": {
           "angularaxis": {
            "gridcolor": "white",
            "linecolor": "white",
            "ticks": ""
           },
           "bgcolor": "#E5ECF6",
           "radialaxis": {
            "gridcolor": "white",
            "linecolor": "white",
            "ticks": ""
           }
          },
          "scene": {
           "xaxis": {
            "backgroundcolor": "#E5ECF6",
            "gridcolor": "white",
            "gridwidth": 2,
            "linecolor": "white",
            "showbackground": true,
            "ticks": "",
            "zerolinecolor": "white"
           },
           "yaxis": {
            "backgroundcolor": "#E5ECF6",
            "gridcolor": "white",
            "gridwidth": 2,
            "linecolor": "white",
            "showbackground": true,
            "ticks": "",
            "zerolinecolor": "white"
           },
           "zaxis": {
            "backgroundcolor": "#E5ECF6",
            "gridcolor": "white",
            "gridwidth": 2,
            "linecolor": "white",
            "showbackground": true,
            "ticks": "",
            "zerolinecolor": "white"
           }
          },
          "shapedefaults": {
           "line": {
            "color": "#2a3f5f"
           }
          },
          "ternary": {
           "aaxis": {
            "gridcolor": "white",
            "linecolor": "white",
            "ticks": ""
           },
           "baxis": {
            "gridcolor": "white",
            "linecolor": "white",
            "ticks": ""
           },
           "bgcolor": "#E5ECF6",
           "caxis": {
            "gridcolor": "white",
            "linecolor": "white",
            "ticks": ""
           }
          },
          "title": {
           "x": 0.05
          },
          "xaxis": {
           "automargin": true,
           "gridcolor": "white",
           "linecolor": "white",
           "ticks": "",
           "title": {
            "standoff": 15
           },
           "zerolinecolor": "white",
           "zerolinewidth": 2
          },
          "yaxis": {
           "automargin": true,
           "gridcolor": "white",
           "linecolor": "white",
           "ticks": "",
           "title": {
            "standoff": 15
           },
           "zerolinecolor": "white",
           "zerolinewidth": 2
          }
         }
        },
        "title": {
         "text": "EV Charging Points: Germany vs Netherlands (2010-2024)"
        },
        "xaxis": {
         "anchor": "y",
         "domain": [
          0,
          1
         ],
         "title": {
          "text": "Year"
         }
        },
        "yaxis": {
         "anchor": "x",
         "domain": [
          0,
          1
         ],
         "title": {
          "text": "Charging Points"
         }
        }
       }
      }
     },
     "metadata": {},
     "output_type": "display_data"
    }
   ],
   "source": [
    "# Comparing Germany as the country with the most EV's, and Netherlands as the country with more CP's\n",
    "countries = ['Germany', 'Netherlands']\n",
    "\n",
    "# Filter dataset for Germany & Netherlands charging points\n",
    "df_compare = df[\n",
    "    (df['unit'] == 'charging points') &\n",
    "    (df['region_country'].isin(countries))\n",
    "].copy()\n",
    "\n",
    "# Add text labels for markers\n",
    "df_compare['text_label'] = df_compare['value'].apply(lambda x: f\"{int(x):,}\")\n",
    "\n",
    "# Plot charging points trend for Germany vs Netherlands\n",
    "fig = px.line(\n",
    "    df_compare,\n",
    "    x='year',\n",
    "    y='value',\n",
    "    color='region_country',\n",
    "    markers=True,\n",
    "    text='text_label',\n",
    "    title='EV Charging Points: Germany vs Netherlands (2010-2024)',\n",
    "    labels={'value': 'Charging Points', 'year': 'Year', 'region_country': 'Country'}\n",
    ")\n",
    "\n",
    "# Adjust label position above markers\n",
    "fig.update_traces(textposition='top center')\n",
    "\n",
    "fig.show()\n"
   ]
  },
  {
   "cell_type": "code",
   "execution_count": 80,
   "id": "bcdf109a",
   "metadata": {},
   "outputs": [
    {
     "name": "stdout",
     "output_type": "stream",
     "text": [
      "['Vehicles' 'charging points' 'GWh' 'Oil displacement, million lge'\n",
      " 'percent' 'Million barrels per day']\n",
      "['Vehicles' 'charging points' 'GWh' 'Oil displacement, million lge'\n",
      " 'percent' 'Million barrels per day']\n"
     ]
    }
   ],
   "source": [
    "# The following cells allow us to check the GWh consumption data per region\n",
    "# Check all unique units and strip whitespace\n",
    "print(df['unit'].unique())\n",
    "print(df['unit'].str.strip().unique())  # just in case there are spaces\n"
   ]
  },
  {
   "cell_type": "code",
   "execution_count": 81,
   "id": "c5f51c35",
   "metadata": {},
   "outputs": [
    {
     "name": "stdout",
     "output_type": "stream",
     "text": [
      "['World' 'China' 'Europe' 'USA' 'Rest of the world' 'India']\n"
     ]
    }
   ],
   "source": [
    "# Check which countries/regions have non-zero GWh\n",
    "df_gwh_all = df[df['unit'] == 'GWh']\n",
    "print(df_gwh_all['region_country'].unique())"
   ]
  },
  {
   "cell_type": "code",
   "execution_count": 91,
   "id": "b1674bef",
   "metadata": {},
   "outputs": [
    {
     "name": "stdout",
     "output_type": "stream",
     "text": [
      "Total GWh consumed by EVs in Europe (2010-2024): 35,400\n"
     ]
    }
   ],
   "source": [
    "df_europe_gwh_filtered = df_europe_gwh[df_europe_gwh['year'] <= 2024]\n",
    "total_gwh = df_europe_gwh_filtered['value'].sum()\n",
    "print(f\"Total GWh consumed by EVs in Europe (2010-2024): {total_gwh:,.0f}\")\n"
   ]
  },
  {
   "cell_type": "code",
   "execution_count": null,
   "id": "9193e3b0",
   "metadata": {},
   "outputs": [
    {
     "name": "stdout",
     "output_type": "stream",
     "text": [
      "Yearly oil displacement by EVs in Europe (million lge):\n",
      " year    value\n",
      " 2010    24.61\n",
      " 2011    43.14\n",
      " 2012    85.50\n",
      " 2013   145.00\n",
      " 2014   251.30\n",
      " 2015   402.40\n",
      " 2016   625.60\n",
      " 2017   891.20\n",
      " 2018  1229.60\n",
      " 2019  1821.00\n",
      " 2020  4982.00\n",
      " 2021  9148.00\n",
      " 2022 13700.00\n",
      " 2023 21306.00\n",
      " 2024 24564.00\n",
      "\n",
      "Total oil displacement (2010-2024): 79,219 million lge\n"
     ]
    }
   ],
   "source": [
    "# Checking how much oil is displaced by EVs in Europe\n",
    "# Filter Europe oil displacement up to 2024\n",
    "df_europe_oil = df[\n",
    "    (df['unit'] == 'Oil displacement, million lge') &\n",
    "    (df['region_country'] == 'Europe') &\n",
    "    (df['year'] <= 2024)\n",
    "].copy()\n",
    "\n",
    "# Group by year\n",
    "yearly_oil = df_europe_oil.groupby('year')['value'].sum().reset_index()\n",
    "\n",
    "# Total oil displacement\n",
    "total_oil = yearly_oil['value'].sum()\n",
    "\n",
    "print(\"Yearly oil displacement by EVs in Europe (million lge):\")\n",
    "print(yearly_oil.to_string(index=False))\n",
    "print(f\"\\nTotal oil displacement (2010-2024): {total_oil:,.0f} million lge\")\n"
   ]
  },
  {
   "cell_type": "code",
   "execution_count": 101,
   "id": "f5903ac6",
   "metadata": {},
   "outputs": [
    {
     "name": "stdout",
     "output_type": "stream",
     "text": [
      "Yearly EV electricity consumption in Europe (GWh) up to 2030:\n",
      "    year        value   cumulative\n",
      "0   2010       0.1293       0.1293\n",
      "1   2011       0.4483       0.5776\n",
      "2   2012       0.9419       1.5195\n",
      "3   2013       1.6233       3.1428\n",
      "4   2014       2.7758       5.9186\n",
      "5   2015       4.1231      10.0417\n",
      "6   2016       5.1962      15.2379\n",
      "7   2017       8.1193      23.3572\n",
      "8   2018      12.2290      35.5862\n",
      "9   2019      24.9460      60.5322\n",
      "10  2020     107.2400     167.7722\n",
      "11  2021     183.6800     351.4522\n",
      "12  2022     255.8200     607.2722\n",
      "13  2023     347.4200     954.6922\n",
      "14  2024   34445.6000   35400.2922\n",
      "15  2030  168624.4000  204024.6922\n",
      "\n",
      "Total GWh consumed by EVs in Europe (2010-2030): 204,025\n"
     ]
    }
   ],
   "source": [
    "# Getting GWh data for Europe up to 2030\n",
    "df_europe_gwh_2030 = df[(df['unit'] == 'GWh') & (df['region_country'] == 'Europe') & (df['year'] <= 2030)]\n",
    "\n",
    "# Group by year\n",
    "yearly_gwh = df_europe_gwh_2030.groupby('year')['value'].sum().reset_index()\n",
    "\n",
    "# Calculate cumulative total\n",
    "yearly_gwh['cumulative'] = yearly_gwh['value'].cumsum()\n",
    "\n",
    "# Display table\n",
    "print(\"Yearly EV electricity consumption in Europe (GWh) up to 2030:\")\n",
    "print(yearly_gwh)\n",
    "\n",
    "# Optional: total GWh\n",
    "total_gwh_2030 = yearly_gwh['value'].sum()\n",
    "print(f\"\\nTotal GWh consumed by EVs in Europe (2010-2030): {total_gwh_2030:,.0f}\")\n"
   ]
  },
  {
   "cell_type": "code",
   "execution_count": 110,
   "id": "a733a725",
   "metadata": {},
   "outputs": [
    {
     "data": {
      "application/vnd.plotly.v1+json": {
       "config": {
        "plotlyServerURL": "https://plot.ly"
       },
       "data": [
        {
         "alignmentgroup": "True",
         "hovertemplate": "Type=%{x}<br>GWh=%{y}<br>text=%{text}<extra></extra>",
         "legendgroup": "Cumulative (2010-2024)",
         "marker": {
          "color": "#1f77b4",
          "pattern": {
           "shape": ""
          }
         },
         "name": "Cumulative (2010-2024)",
         "offsetgroup": "Cumulative (2010-2024)",
         "orientation": "v",
         "showlegend": true,
         "text": [
          "35,400 GWh"
         ],
         "textposition": "outside",
         "type": "bar",
         "x": [
          "Cumulative (2010-2024)"
         ],
         "xaxis": "x",
         "y": [
          35400.2922
         ],
         "yaxis": "y"
        },
        {
         "alignmentgroup": "True",
         "hovertemplate": "Type=%{x}<br>GWh=%{y}<br>text=%{text}<extra></extra>",
         "legendgroup": "Projected (2030)",
         "marker": {
          "color": "#ff7f0e",
          "pattern": {
           "shape": ""
          }
         },
         "name": "Projected (2030)",
         "offsetgroup": "Projected (2030)",
         "orientation": "v",
         "showlegend": true,
         "text": [
          "168,624 GWh"
         ],
         "textposition": "outside",
         "type": "bar",
         "x": [
          "Projected (2030)"
         ],
         "xaxis": "x",
         "y": [
          168624.4
         ],
         "yaxis": "y"
        }
       ],
       "layout": {
        "barmode": "relative",
        "legend": {
         "title": {
          "text": "Type"
         },
         "tracegroupgap": 0
        },
        "template": {
         "data": {
          "bar": [
           {
            "error_x": {
             "color": "#2a3f5f"
            },
            "error_y": {
             "color": "#2a3f5f"
            },
            "marker": {
             "line": {
              "color": "#E5ECF6",
              "width": 0.5
             },
             "pattern": {
              "fillmode": "overlay",
              "size": 10,
              "solidity": 0.2
             }
            },
            "type": "bar"
           }
          ],
          "barpolar": [
           {
            "marker": {
             "line": {
              "color": "#E5ECF6",
              "width": 0.5
             },
             "pattern": {
              "fillmode": "overlay",
              "size": 10,
              "solidity": 0.2
             }
            },
            "type": "barpolar"
           }
          ],
          "carpet": [
           {
            "aaxis": {
             "endlinecolor": "#2a3f5f",
             "gridcolor": "white",
             "linecolor": "white",
             "minorgridcolor": "white",
             "startlinecolor": "#2a3f5f"
            },
            "baxis": {
             "endlinecolor": "#2a3f5f",
             "gridcolor": "white",
             "linecolor": "white",
             "minorgridcolor": "white",
             "startlinecolor": "#2a3f5f"
            },
            "type": "carpet"
           }
          ],
          "choropleth": [
           {
            "colorbar": {
             "outlinewidth": 0,
             "ticks": ""
            },
            "type": "choropleth"
           }
          ],
          "contour": [
           {
            "colorbar": {
             "outlinewidth": 0,
             "ticks": ""
            },
            "colorscale": [
             [
              0,
              "#0d0887"
             ],
             [
              0.1111111111111111,
              "#46039f"
             ],
             [
              0.2222222222222222,
              "#7201a8"
             ],
             [
              0.3333333333333333,
              "#9c179e"
             ],
             [
              0.4444444444444444,
              "#bd3786"
             ],
             [
              0.5555555555555556,
              "#d8576b"
             ],
             [
              0.6666666666666666,
              "#ed7953"
             ],
             [
              0.7777777777777778,
              "#fb9f3a"
             ],
             [
              0.8888888888888888,
              "#fdca26"
             ],
             [
              1,
              "#f0f921"
             ]
            ],
            "type": "contour"
           }
          ],
          "contourcarpet": [
           {
            "colorbar": {
             "outlinewidth": 0,
             "ticks": ""
            },
            "type": "contourcarpet"
           }
          ],
          "heatmap": [
           {
            "colorbar": {
             "outlinewidth": 0,
             "ticks": ""
            },
            "colorscale": [
             [
              0,
              "#0d0887"
             ],
             [
              0.1111111111111111,
              "#46039f"
             ],
             [
              0.2222222222222222,
              "#7201a8"
             ],
             [
              0.3333333333333333,
              "#9c179e"
             ],
             [
              0.4444444444444444,
              "#bd3786"
             ],
             [
              0.5555555555555556,
              "#d8576b"
             ],
             [
              0.6666666666666666,
              "#ed7953"
             ],
             [
              0.7777777777777778,
              "#fb9f3a"
             ],
             [
              0.8888888888888888,
              "#fdca26"
             ],
             [
              1,
              "#f0f921"
             ]
            ],
            "type": "heatmap"
           }
          ],
          "heatmapgl": [
           {
            "colorbar": {
             "outlinewidth": 0,
             "ticks": ""
            },
            "colorscale": [
             [
              0,
              "#0d0887"
             ],
             [
              0.1111111111111111,
              "#46039f"
             ],
             [
              0.2222222222222222,
              "#7201a8"
             ],
             [
              0.3333333333333333,
              "#9c179e"
             ],
             [
              0.4444444444444444,
              "#bd3786"
             ],
             [
              0.5555555555555556,
              "#d8576b"
             ],
             [
              0.6666666666666666,
              "#ed7953"
             ],
             [
              0.7777777777777778,
              "#fb9f3a"
             ],
             [
              0.8888888888888888,
              "#fdca26"
             ],
             [
              1,
              "#f0f921"
             ]
            ],
            "type": "heatmapgl"
           }
          ],
          "histogram": [
           {
            "marker": {
             "pattern": {
              "fillmode": "overlay",
              "size": 10,
              "solidity": 0.2
             }
            },
            "type": "histogram"
           }
          ],
          "histogram2d": [
           {
            "colorbar": {
             "outlinewidth": 0,
             "ticks": ""
            },
            "colorscale": [
             [
              0,
              "#0d0887"
             ],
             [
              0.1111111111111111,
              "#46039f"
             ],
             [
              0.2222222222222222,
              "#7201a8"
             ],
             [
              0.3333333333333333,
              "#9c179e"
             ],
             [
              0.4444444444444444,
              "#bd3786"
             ],
             [
              0.5555555555555556,
              "#d8576b"
             ],
             [
              0.6666666666666666,
              "#ed7953"
             ],
             [
              0.7777777777777778,
              "#fb9f3a"
             ],
             [
              0.8888888888888888,
              "#fdca26"
             ],
             [
              1,
              "#f0f921"
             ]
            ],
            "type": "histogram2d"
           }
          ],
          "histogram2dcontour": [
           {
            "colorbar": {
             "outlinewidth": 0,
             "ticks": ""
            },
            "colorscale": [
             [
              0,
              "#0d0887"
             ],
             [
              0.1111111111111111,
              "#46039f"
             ],
             [
              0.2222222222222222,
              "#7201a8"
             ],
             [
              0.3333333333333333,
              "#9c179e"
             ],
             [
              0.4444444444444444,
              "#bd3786"
             ],
             [
              0.5555555555555556,
              "#d8576b"
             ],
             [
              0.6666666666666666,
              "#ed7953"
             ],
             [
              0.7777777777777778,
              "#fb9f3a"
             ],
             [
              0.8888888888888888,
              "#fdca26"
             ],
             [
              1,
              "#f0f921"
             ]
            ],
            "type": "histogram2dcontour"
           }
          ],
          "mesh3d": [
           {
            "colorbar": {
             "outlinewidth": 0,
             "ticks": ""
            },
            "type": "mesh3d"
           }
          ],
          "parcoords": [
           {
            "line": {
             "colorbar": {
              "outlinewidth": 0,
              "ticks": ""
             }
            },
            "type": "parcoords"
           }
          ],
          "pie": [
           {
            "automargin": true,
            "type": "pie"
           }
          ],
          "scatter": [
           {
            "fillpattern": {
             "fillmode": "overlay",
             "size": 10,
             "solidity": 0.2
            },
            "type": "scatter"
           }
          ],
          "scatter3d": [
           {
            "line": {
             "colorbar": {
              "outlinewidth": 0,
              "ticks": ""
             }
            },
            "marker": {
             "colorbar": {
              "outlinewidth": 0,
              "ticks": ""
             }
            },
            "type": "scatter3d"
           }
          ],
          "scattercarpet": [
           {
            "marker": {
             "colorbar": {
              "outlinewidth": 0,
              "ticks": ""
             }
            },
            "type": "scattercarpet"
           }
          ],
          "scattergeo": [
           {
            "marker": {
             "colorbar": {
              "outlinewidth": 0,
              "ticks": ""
             }
            },
            "type": "scattergeo"
           }
          ],
          "scattergl": [
           {
            "marker": {
             "colorbar": {
              "outlinewidth": 0,
              "ticks": ""
             }
            },
            "type": "scattergl"
           }
          ],
          "scattermapbox": [
           {
            "marker": {
             "colorbar": {
              "outlinewidth": 0,
              "ticks": ""
             }
            },
            "type": "scattermapbox"
           }
          ],
          "scatterpolar": [
           {
            "marker": {
             "colorbar": {
              "outlinewidth": 0,
              "ticks": ""
             }
            },
            "type": "scatterpolar"
           }
          ],
          "scatterpolargl": [
           {
            "marker": {
             "colorbar": {
              "outlinewidth": 0,
              "ticks": ""
             }
            },
            "type": "scatterpolargl"
           }
          ],
          "scatterternary": [
           {
            "marker": {
             "colorbar": {
              "outlinewidth": 0,
              "ticks": ""
             }
            },
            "type": "scatterternary"
           }
          ],
          "surface": [
           {
            "colorbar": {
             "outlinewidth": 0,
             "ticks": ""
            },
            "colorscale": [
             [
              0,
              "#0d0887"
             ],
             [
              0.1111111111111111,
              "#46039f"
             ],
             [
              0.2222222222222222,
              "#7201a8"
             ],
             [
              0.3333333333333333,
              "#9c179e"
             ],
             [
              0.4444444444444444,
              "#bd3786"
             ],
             [
              0.5555555555555556,
              "#d8576b"
             ],
             [
              0.6666666666666666,
              "#ed7953"
             ],
             [
              0.7777777777777778,
              "#fb9f3a"
             ],
             [
              0.8888888888888888,
              "#fdca26"
             ],
             [
              1,
              "#f0f921"
             ]
            ],
            "type": "surface"
           }
          ],
          "table": [
           {
            "cells": {
             "fill": {
              "color": "#EBF0F8"
             },
             "line": {
              "color": "white"
             }
            },
            "header": {
             "fill": {
              "color": "#C8D4E3"
             },
             "line": {
              "color": "white"
             }
            },
            "type": "table"
           }
          ]
         },
         "layout": {
          "annotationdefaults": {
           "arrowcolor": "#2a3f5f",
           "arrowhead": 0,
           "arrowwidth": 1
          },
          "autotypenumbers": "strict",
          "coloraxis": {
           "colorbar": {
            "outlinewidth": 0,
            "ticks": ""
           }
          },
          "colorscale": {
           "diverging": [
            [
             0,
             "#8e0152"
            ],
            [
             0.1,
             "#c51b7d"
            ],
            [
             0.2,
             "#de77ae"
            ],
            [
             0.3,
             "#f1b6da"
            ],
            [
             0.4,
             "#fde0ef"
            ],
            [
             0.5,
             "#f7f7f7"
            ],
            [
             0.6,
             "#e6f5d0"
            ],
            [
             0.7,
             "#b8e186"
            ],
            [
             0.8,
             "#7fbc41"
            ],
            [
             0.9,
             "#4d9221"
            ],
            [
             1,
             "#276419"
            ]
           ],
           "sequential": [
            [
             0,
             "#0d0887"
            ],
            [
             0.1111111111111111,
             "#46039f"
            ],
            [
             0.2222222222222222,
             "#7201a8"
            ],
            [
             0.3333333333333333,
             "#9c179e"
            ],
            [
             0.4444444444444444,
             "#bd3786"
            ],
            [
             0.5555555555555556,
             "#d8576b"
            ],
            [
             0.6666666666666666,
             "#ed7953"
            ],
            [
             0.7777777777777778,
             "#fb9f3a"
            ],
            [
             0.8888888888888888,
             "#fdca26"
            ],
            [
             1,
             "#f0f921"
            ]
           ],
           "sequentialminus": [
            [
             0,
             "#0d0887"
            ],
            [
             0.1111111111111111,
             "#46039f"
            ],
            [
             0.2222222222222222,
             "#7201a8"
            ],
            [
             0.3333333333333333,
             "#9c179e"
            ],
            [
             0.4444444444444444,
             "#bd3786"
            ],
            [
             0.5555555555555556,
             "#d8576b"
            ],
            [
             0.6666666666666666,
             "#ed7953"
            ],
            [
             0.7777777777777778,
             "#fb9f3a"
            ],
            [
             0.8888888888888888,
             "#fdca26"
            ],
            [
             1,
             "#f0f921"
            ]
           ]
          },
          "colorway": [
           "#636efa",
           "#EF553B",
           "#00cc96",
           "#ab63fa",
           "#FFA15A",
           "#19d3f3",
           "#FF6692",
           "#B6E880",
           "#FF97FF",
           "#FECB52"
          ],
          "font": {
           "color": "#2a3f5f"
          },
          "geo": {
           "bgcolor": "white",
           "lakecolor": "white",
           "landcolor": "#E5ECF6",
           "showlakes": true,
           "showland": true,
           "subunitcolor": "white"
          },
          "hoverlabel": {
           "align": "left"
          },
          "hovermode": "closest",
          "mapbox": {
           "style": "light"
          },
          "paper_bgcolor": "white",
          "plot_bgcolor": "#E5ECF6",
          "polar": {
           "angularaxis": {
            "gridcolor": "white",
            "linecolor": "white",
            "ticks": ""
           },
           "bgcolor": "#E5ECF6",
           "radialaxis": {
            "gridcolor": "white",
            "linecolor": "white",
            "ticks": ""
           }
          },
          "scene": {
           "xaxis": {
            "backgroundcolor": "#E5ECF6",
            "gridcolor": "white",
            "gridwidth": 2,
            "linecolor": "white",
            "showbackground": true,
            "ticks": "",
            "zerolinecolor": "white"
           },
           "yaxis": {
            "backgroundcolor": "#E5ECF6",
            "gridcolor": "white",
            "gridwidth": 2,
            "linecolor": "white",
            "showbackground": true,
            "ticks": "",
            "zerolinecolor": "white"
           },
           "zaxis": {
            "backgroundcolor": "#E5ECF6",
            "gridcolor": "white",
            "gridwidth": 2,
            "linecolor": "white",
            "showbackground": true,
            "ticks": "",
            "zerolinecolor": "white"
           }
          },
          "shapedefaults": {
           "line": {
            "color": "#2a3f5f"
           }
          },
          "ternary": {
           "aaxis": {
            "gridcolor": "white",
            "linecolor": "white",
            "ticks": ""
           },
           "baxis": {
            "gridcolor": "white",
            "linecolor": "white",
            "ticks": ""
           },
           "bgcolor": "#E5ECF6",
           "caxis": {
            "gridcolor": "white",
            "linecolor": "white",
            "ticks": ""
           }
          },
          "title": {
           "x": 0.05
          },
          "xaxis": {
           "automargin": true,
           "gridcolor": "white",
           "linecolor": "white",
           "ticks": "",
           "title": {
            "standoff": 15
           },
           "zerolinecolor": "white",
           "zerolinewidth": 2
          },
          "yaxis": {
           "automargin": true,
           "gridcolor": "white",
           "linecolor": "white",
           "ticks": "",
           "title": {
            "standoff": 15
           },
           "zerolinecolor": "white",
           "zerolinewidth": 2
          }
         }
        },
        "title": {
         "text": "EV Electricity Consumption: 2010-2024 vs Projected 2030"
        },
        "xaxis": {
         "anchor": "y",
         "categoryarray": [
          "Cumulative (2010-2024)",
          "Projected (2030)"
         ],
         "categoryorder": "array",
         "domain": [
          0,
          1
         ],
         "title": {
          "text": "Type"
         }
        },
        "yaxis": {
         "anchor": "x",
         "domain": [
          0,
          1
         ],
         "title": {
          "text": "GWh"
         }
        }
       }
      }
     },
     "metadata": {},
     "output_type": "display_data"
    }
   ],
   "source": [
    "# Historical cumulative GWh up to 2024\n",
    "gwh_cumulative_2024 = df[(df['unit'] == 'GWh') &\n",
    "                         (df['region_country'] == 'Europe') &\n",
    "                         (df['year'] <= 2024)]['value'].sum()\n",
    "\n",
    "# Projected GWh for 2030 (single year projection)\n",
    "gwh_2030 = df[(df['unit'] == 'GWh') &\n",
    "              (df['region_country'] == 'Europe') &\n",
    "              (df['category'] == 'Projection-STEPS') &\n",
    "              (df['year'] == 2030)]['value'].sum()\n",
    "\n",
    "# Build comparison DataFrame\n",
    "df_compare = pd.DataFrame({\n",
    "    'Type': ['Cumulative (2010-2024)', 'Projected (2030)'],\n",
    "    'GWh': [gwh_cumulative_2024, gwh_2030]\n",
    "})\n",
    "\n",
    "# Plot\n",
    "import plotly.express as px\n",
    "\n",
    "fig = px.bar(\n",
    "    df_compare,\n",
    "    x='Type',\n",
    "    y='GWh',\n",
    "    text=df_compare['GWh'].apply(lambda x: f\"{int(x):,} GWh\"),\n",
    "    color='Type',\n",
    "    color_discrete_map={'Cumulative (2010-2024)': '#1f77b4', 'Projected (2030)': '#ff7f0e'},\n",
    "    title='EV Electricity Consumption: 2010-2024 vs Projected 2030'\n",
    ")\n",
    "\n",
    "fig.update_traces(textposition='outside')\n",
    "fig.show()\n"
   ]
  },
  {
   "cell_type": "code",
   "execution_count": 117,
   "id": "e5b85e96",
   "metadata": {},
   "outputs": [
    {
     "name": "stdout",
     "output_type": "stream",
     "text": [
      "Historical EV electricity demand (2010–2024): 35,400 GWh\n",
      "Projected EV electricity demand (2025–2030): 0 GWh\n",
      "Total EV electricity demand (2010–2030): 35,400 GWh\n"
     ]
    }
   ],
   "source": [
    "# Historical (2010–2024)\n",
    "hist_gwh = df_europe_gwh[df_europe_gwh['year'] <= 2024]['value'].sum()\n",
    "\n",
    "# Projected (2025–2030)\n",
    "proj_gwh = df_europe_gwh[(df_europe_gwh['year'] >= 2025) & (df_europe_gwh['year'] <= 2030)]['value'].sum()\n",
    "\n",
    "# Total\n",
    "total_gwh = hist_gwh + proj_gwh\n",
    "\n",
    "print(f\"Historical EV electricity demand (2010–2024): {hist_gwh:,.0f} GWh\")\n",
    "print(f\"Projected EV electricity demand (2025–2030): {proj_gwh:,.0f} GWh\")\n",
    "print(f\"Total EV electricity demand (2010–2030): {total_gwh:,.0f} GWh\")\n"
   ]
  },
  {
   "cell_type": "code",
   "execution_count": 112,
   "id": "c68b92f1",
   "metadata": {},
   "outputs": [
    {
     "name": "stdout",
     "output_type": "stream",
     "text": [
      "Yearly historical oil displacement by EVs in Europe (million lge):\n",
      " year    value\n",
      " 2010    24.61\n",
      " 2011    43.14\n",
      " 2012    85.50\n",
      " 2013   145.00\n",
      " 2014   251.30\n",
      " 2015   402.40\n",
      " 2016   625.60\n",
      " 2017   891.20\n",
      " 2018  1229.60\n",
      " 2019  1821.00\n",
      " 2020  2491.00\n",
      " 2021  4574.00\n",
      " 2022  6850.00\n",
      " 2023 10653.00\n",
      " 2024 12282.00\n",
      "\n",
      "Yearly projected oil displacement by EVs in Europe (million lge):\n",
      " year   value\n",
      " 2020  2491.0\n",
      " 2021  4574.0\n",
      " 2022  6850.0\n",
      " 2023 10653.0\n",
      " 2024 12282.0\n",
      " 2030 50010.0\n",
      "\n",
      "Total historical displacement (2010–2024): 42,369 million lge\n",
      "Total projected displacement (2025–2030): 86,860 million lge\n",
      "Total displacement (2010–2030): 129,229 million lge\n"
     ]
    }
   ],
   "source": [
    "# Historical + projected oil displacement (2010–2030)\n",
    "df_europe_oil_all = df[\n",
    "    (df['unit'] == 'Oil displacement, million lge') &\n",
    "    (df['region_country'] == 'Europe') &\n",
    "    (df['year'] <= 2030)\n",
    "].copy()\n",
    "\n",
    "# Separate historical vs projected\n",
    "df_oil_hist = df_europe_oil_all[df_europe_oil_all['category'] != 'Projection-STEPS']\n",
    "df_oil_proj = df_europe_oil_all[df_europe_oil_all['category'] == 'Projection-STEPS']\n",
    "\n",
    "# Group yearly values\n",
    "yearly_oil_hist = df_oil_hist.groupby('year')['value'].sum().reset_index()\n",
    "yearly_oil_proj = df_oil_proj.groupby('year')['value'].sum().reset_index()\n",
    "\n",
    "# Totals\n",
    "total_oil_hist = yearly_oil_hist['value'].sum()\n",
    "total_oil_proj = yearly_oil_proj['value'].sum()\n",
    "total_combined = total_oil_hist + total_oil_proj\n",
    "\n",
    "# Print results\n",
    "print(\"Yearly historical oil displacement by EVs in Europe (million lge):\")\n",
    "print(yearly_oil_hist.to_string(index=False))\n",
    "\n",
    "print(\"\\nYearly projected oil displacement by EVs in Europe (million lge):\")\n",
    "print(yearly_oil_proj.to_string(index=False))\n",
    "\n",
    "print(f\"\\nTotal historical displacement (2010–2024): {total_oil_hist:,.0f} million lge\")\n",
    "print(f\"Total projected displacement (2025–2030): {total_oil_proj:,.0f} million lge\")\n",
    "print(f\"Total displacement (2010–2030): {total_combined:,.0f} million lge\")\n"
   ]
  },
  {
   "cell_type": "code",
   "execution_count": 114,
   "id": "45d02b0b",
   "metadata": {},
   "outputs": [
    {
     "data": {
      "application/vnd.plotly.v1+json": {
       "config": {
        "plotlyServerURL": "https://plot.ly"
       },
       "data": [
        {
         "fillpattern": {
          "shape": ""
         },
         "hovertemplate": "Type=Historical<br>Year=%{x}<br>Oil displacement (million lge)=%{y}<extra></extra>",
         "legendgroup": "Historical",
         "line": {
          "color": "#1f77b4"
         },
         "marker": {
          "symbol": "circle"
         },
         "mode": "lines+markers",
         "name": "Historical",
         "orientation": "v",
         "showlegend": true,
         "stackgroup": "1",
         "type": "scatter",
         "x": [
          2010,
          2011,
          2012,
          2013,
          2014,
          2015,
          2016,
          2017,
          2018,
          2019,
          2020,
          2021,
          2022,
          2023,
          2024
         ],
         "xaxis": "x",
         "y": [
          24.61,
          43.14,
          85.5,
          145,
          251.3,
          402.4,
          625.6,
          891.2,
          1229.6,
          1821,
          4982,
          9148,
          13700,
          21306,
          24564
         ],
         "yaxis": "y"
        },
        {
         "fillpattern": {
          "shape": ""
         },
         "hovertemplate": "Type=Projected<br>Year=%{x}<br>Oil displacement (million lge)=%{y}<extra></extra>",
         "legendgroup": "Projected",
         "line": {
          "color": "#ff7f0e"
         },
         "marker": {
          "symbol": "circle"
         },
         "mode": "lines+markers",
         "name": "Projected",
         "orientation": "v",
         "showlegend": true,
         "stackgroup": "1",
         "type": "scatter",
         "x": [
          2030
         ],
         "xaxis": "x",
         "y": [
          50010
         ],
         "yaxis": "y"
        }
       ],
       "layout": {
        "legend": {
         "title": {
          "text": "Type"
         },
         "tracegroupgap": 0
        },
        "template": {
         "data": {
          "bar": [
           {
            "error_x": {
             "color": "#2a3f5f"
            },
            "error_y": {
             "color": "#2a3f5f"
            },
            "marker": {
             "line": {
              "color": "#E5ECF6",
              "width": 0.5
             },
             "pattern": {
              "fillmode": "overlay",
              "size": 10,
              "solidity": 0.2
             }
            },
            "type": "bar"
           }
          ],
          "barpolar": [
           {
            "marker": {
             "line": {
              "color": "#E5ECF6",
              "width": 0.5
             },
             "pattern": {
              "fillmode": "overlay",
              "size": 10,
              "solidity": 0.2
             }
            },
            "type": "barpolar"
           }
          ],
          "carpet": [
           {
            "aaxis": {
             "endlinecolor": "#2a3f5f",
             "gridcolor": "white",
             "linecolor": "white",
             "minorgridcolor": "white",
             "startlinecolor": "#2a3f5f"
            },
            "baxis": {
             "endlinecolor": "#2a3f5f",
             "gridcolor": "white",
             "linecolor": "white",
             "minorgridcolor": "white",
             "startlinecolor": "#2a3f5f"
            },
            "type": "carpet"
           }
          ],
          "choropleth": [
           {
            "colorbar": {
             "outlinewidth": 0,
             "ticks": ""
            },
            "type": "choropleth"
           }
          ],
          "contour": [
           {
            "colorbar": {
             "outlinewidth": 0,
             "ticks": ""
            },
            "colorscale": [
             [
              0,
              "#0d0887"
             ],
             [
              0.1111111111111111,
              "#46039f"
             ],
             [
              0.2222222222222222,
              "#7201a8"
             ],
             [
              0.3333333333333333,
              "#9c179e"
             ],
             [
              0.4444444444444444,
              "#bd3786"
             ],
             [
              0.5555555555555556,
              "#d8576b"
             ],
             [
              0.6666666666666666,
              "#ed7953"
             ],
             [
              0.7777777777777778,
              "#fb9f3a"
             ],
             [
              0.8888888888888888,
              "#fdca26"
             ],
             [
              1,
              "#f0f921"
             ]
            ],
            "type": "contour"
           }
          ],
          "contourcarpet": [
           {
            "colorbar": {
             "outlinewidth": 0,
             "ticks": ""
            },
            "type": "contourcarpet"
           }
          ],
          "heatmap": [
           {
            "colorbar": {
             "outlinewidth": 0,
             "ticks": ""
            },
            "colorscale": [
             [
              0,
              "#0d0887"
             ],
             [
              0.1111111111111111,
              "#46039f"
             ],
             [
              0.2222222222222222,
              "#7201a8"
             ],
             [
              0.3333333333333333,
              "#9c179e"
             ],
             [
              0.4444444444444444,
              "#bd3786"
             ],
             [
              0.5555555555555556,
              "#d8576b"
             ],
             [
              0.6666666666666666,
              "#ed7953"
             ],
             [
              0.7777777777777778,
              "#fb9f3a"
             ],
             [
              0.8888888888888888,
              "#fdca26"
             ],
             [
              1,
              "#f0f921"
             ]
            ],
            "type": "heatmap"
           }
          ],
          "heatmapgl": [
           {
            "colorbar": {
             "outlinewidth": 0,
             "ticks": ""
            },
            "colorscale": [
             [
              0,
              "#0d0887"
             ],
             [
              0.1111111111111111,
              "#46039f"
             ],
             [
              0.2222222222222222,
              "#7201a8"
             ],
             [
              0.3333333333333333,
              "#9c179e"
             ],
             [
              0.4444444444444444,
              "#bd3786"
             ],
             [
              0.5555555555555556,
              "#d8576b"
             ],
             [
              0.6666666666666666,
              "#ed7953"
             ],
             [
              0.7777777777777778,
              "#fb9f3a"
             ],
             [
              0.8888888888888888,
              "#fdca26"
             ],
             [
              1,
              "#f0f921"
             ]
            ],
            "type": "heatmapgl"
           }
          ],
          "histogram": [
           {
            "marker": {
             "pattern": {
              "fillmode": "overlay",
              "size": 10,
              "solidity": 0.2
             }
            },
            "type": "histogram"
           }
          ],
          "histogram2d": [
           {
            "colorbar": {
             "outlinewidth": 0,
             "ticks": ""
            },
            "colorscale": [
             [
              0,
              "#0d0887"
             ],
             [
              0.1111111111111111,
              "#46039f"
             ],
             [
              0.2222222222222222,
              "#7201a8"
             ],
             [
              0.3333333333333333,
              "#9c179e"
             ],
             [
              0.4444444444444444,
              "#bd3786"
             ],
             [
              0.5555555555555556,
              "#d8576b"
             ],
             [
              0.6666666666666666,
              "#ed7953"
             ],
             [
              0.7777777777777778,
              "#fb9f3a"
             ],
             [
              0.8888888888888888,
              "#fdca26"
             ],
             [
              1,
              "#f0f921"
             ]
            ],
            "type": "histogram2d"
           }
          ],
          "histogram2dcontour": [
           {
            "colorbar": {
             "outlinewidth": 0,
             "ticks": ""
            },
            "colorscale": [
             [
              0,
              "#0d0887"
             ],
             [
              0.1111111111111111,
              "#46039f"
             ],
             [
              0.2222222222222222,
              "#7201a8"
             ],
             [
              0.3333333333333333,
              "#9c179e"
             ],
             [
              0.4444444444444444,
              "#bd3786"
             ],
             [
              0.5555555555555556,
              "#d8576b"
             ],
             [
              0.6666666666666666,
              "#ed7953"
             ],
             [
              0.7777777777777778,
              "#fb9f3a"
             ],
             [
              0.8888888888888888,
              "#fdca26"
             ],
             [
              1,
              "#f0f921"
             ]
            ],
            "type": "histogram2dcontour"
           }
          ],
          "mesh3d": [
           {
            "colorbar": {
             "outlinewidth": 0,
             "ticks": ""
            },
            "type": "mesh3d"
           }
          ],
          "parcoords": [
           {
            "line": {
             "colorbar": {
              "outlinewidth": 0,
              "ticks": ""
             }
            },
            "type": "parcoords"
           }
          ],
          "pie": [
           {
            "automargin": true,
            "type": "pie"
           }
          ],
          "scatter": [
           {
            "fillpattern": {
             "fillmode": "overlay",
             "size": 10,
             "solidity": 0.2
            },
            "type": "scatter"
           }
          ],
          "scatter3d": [
           {
            "line": {
             "colorbar": {
              "outlinewidth": 0,
              "ticks": ""
             }
            },
            "marker": {
             "colorbar": {
              "outlinewidth": 0,
              "ticks": ""
             }
            },
            "type": "scatter3d"
           }
          ],
          "scattercarpet": [
           {
            "marker": {
             "colorbar": {
              "outlinewidth": 0,
              "ticks": ""
             }
            },
            "type": "scattercarpet"
           }
          ],
          "scattergeo": [
           {
            "marker": {
             "colorbar": {
              "outlinewidth": 0,
              "ticks": ""
             }
            },
            "type": "scattergeo"
           }
          ],
          "scattergl": [
           {
            "marker": {
             "colorbar": {
              "outlinewidth": 0,
              "ticks": ""
             }
            },
            "type": "scattergl"
           }
          ],
          "scattermapbox": [
           {
            "marker": {
             "colorbar": {
              "outlinewidth": 0,
              "ticks": ""
             }
            },
            "type": "scattermapbox"
           }
          ],
          "scatterpolar": [
           {
            "marker": {
             "colorbar": {
              "outlinewidth": 0,
              "ticks": ""
             }
            },
            "type": "scatterpolar"
           }
          ],
          "scatterpolargl": [
           {
            "marker": {
             "colorbar": {
              "outlinewidth": 0,
              "ticks": ""
             }
            },
            "type": "scatterpolargl"
           }
          ],
          "scatterternary": [
           {
            "marker": {
             "colorbar": {
              "outlinewidth": 0,
              "ticks": ""
             }
            },
            "type": "scatterternary"
           }
          ],
          "surface": [
           {
            "colorbar": {
             "outlinewidth": 0,
             "ticks": ""
            },
            "colorscale": [
             [
              0,
              "#0d0887"
             ],
             [
              0.1111111111111111,
              "#46039f"
             ],
             [
              0.2222222222222222,
              "#7201a8"
             ],
             [
              0.3333333333333333,
              "#9c179e"
             ],
             [
              0.4444444444444444,
              "#bd3786"
             ],
             [
              0.5555555555555556,
              "#d8576b"
             ],
             [
              0.6666666666666666,
              "#ed7953"
             ],
             [
              0.7777777777777778,
              "#fb9f3a"
             ],
             [
              0.8888888888888888,
              "#fdca26"
             ],
             [
              1,
              "#f0f921"
             ]
            ],
            "type": "surface"
           }
          ],
          "table": [
           {
            "cells": {
             "fill": {
              "color": "#EBF0F8"
             },
             "line": {
              "color": "white"
             }
            },
            "header": {
             "fill": {
              "color": "#C8D4E3"
             },
             "line": {
              "color": "white"
             }
            },
            "type": "table"
           }
          ]
         },
         "layout": {
          "annotationdefaults": {
           "arrowcolor": "#2a3f5f",
           "arrowhead": 0,
           "arrowwidth": 1
          },
          "autotypenumbers": "strict",
          "coloraxis": {
           "colorbar": {
            "outlinewidth": 0,
            "ticks": ""
           }
          },
          "colorscale": {
           "diverging": [
            [
             0,
             "#8e0152"
            ],
            [
             0.1,
             "#c51b7d"
            ],
            [
             0.2,
             "#de77ae"
            ],
            [
             0.3,
             "#f1b6da"
            ],
            [
             0.4,
             "#fde0ef"
            ],
            [
             0.5,
             "#f7f7f7"
            ],
            [
             0.6,
             "#e6f5d0"
            ],
            [
             0.7,
             "#b8e186"
            ],
            [
             0.8,
             "#7fbc41"
            ],
            [
             0.9,
             "#4d9221"
            ],
            [
             1,
             "#276419"
            ]
           ],
           "sequential": [
            [
             0,
             "#0d0887"
            ],
            [
             0.1111111111111111,
             "#46039f"
            ],
            [
             0.2222222222222222,
             "#7201a8"
            ],
            [
             0.3333333333333333,
             "#9c179e"
            ],
            [
             0.4444444444444444,
             "#bd3786"
            ],
            [
             0.5555555555555556,
             "#d8576b"
            ],
            [
             0.6666666666666666,
             "#ed7953"
            ],
            [
             0.7777777777777778,
             "#fb9f3a"
            ],
            [
             0.8888888888888888,
             "#fdca26"
            ],
            [
             1,
             "#f0f921"
            ]
           ],
           "sequentialminus": [
            [
             0,
             "#0d0887"
            ],
            [
             0.1111111111111111,
             "#46039f"
            ],
            [
             0.2222222222222222,
             "#7201a8"
            ],
            [
             0.3333333333333333,
             "#9c179e"
            ],
            [
             0.4444444444444444,
             "#bd3786"
            ],
            [
             0.5555555555555556,
             "#d8576b"
            ],
            [
             0.6666666666666666,
             "#ed7953"
            ],
            [
             0.7777777777777778,
             "#fb9f3a"
            ],
            [
             0.8888888888888888,
             "#fdca26"
            ],
            [
             1,
             "#f0f921"
            ]
           ]
          },
          "colorway": [
           "#636efa",
           "#EF553B",
           "#00cc96",
           "#ab63fa",
           "#FFA15A",
           "#19d3f3",
           "#FF6692",
           "#B6E880",
           "#FF97FF",
           "#FECB52"
          ],
          "font": {
           "color": "#2a3f5f"
          },
          "geo": {
           "bgcolor": "white",
           "lakecolor": "white",
           "landcolor": "#E5ECF6",
           "showlakes": true,
           "showland": true,
           "subunitcolor": "white"
          },
          "hoverlabel": {
           "align": "left"
          },
          "hovermode": "closest",
          "mapbox": {
           "style": "light"
          },
          "paper_bgcolor": "white",
          "plot_bgcolor": "#E5ECF6",
          "polar": {
           "angularaxis": {
            "gridcolor": "white",
            "linecolor": "white",
            "ticks": ""
           },
           "bgcolor": "#E5ECF6",
           "radialaxis": {
            "gridcolor": "white",
            "linecolor": "white",
            "ticks": ""
           }
          },
          "scene": {
           "xaxis": {
            "backgroundcolor": "#E5ECF6",
            "gridcolor": "white",
            "gridwidth": 2,
            "linecolor": "white",
            "showbackground": true,
            "ticks": "",
            "zerolinecolor": "white"
           },
           "yaxis": {
            "backgroundcolor": "#E5ECF6",
            "gridcolor": "white",
            "gridwidth": 2,
            "linecolor": "white",
            "showbackground": true,
            "ticks": "",
            "zerolinecolor": "white"
           },
           "zaxis": {
            "backgroundcolor": "#E5ECF6",
            "gridcolor": "white",
            "gridwidth": 2,
            "linecolor": "white",
            "showbackground": true,
            "ticks": "",
            "zerolinecolor": "white"
           }
          },
          "shapedefaults": {
           "line": {
            "color": "#2a3f5f"
           }
          },
          "ternary": {
           "aaxis": {
            "gridcolor": "white",
            "linecolor": "white",
            "ticks": ""
           },
           "baxis": {
            "gridcolor": "white",
            "linecolor": "white",
            "ticks": ""
           },
           "bgcolor": "#E5ECF6",
           "caxis": {
            "gridcolor": "white",
            "linecolor": "white",
            "ticks": ""
           }
          },
          "title": {
           "x": 0.05
          },
          "xaxis": {
           "automargin": true,
           "gridcolor": "white",
           "linecolor": "white",
           "ticks": "",
           "title": {
            "standoff": 15
           },
           "zerolinecolor": "white",
           "zerolinewidth": 2
          },
          "yaxis": {
           "automargin": true,
           "gridcolor": "white",
           "linecolor": "white",
           "ticks": "",
           "title": {
            "standoff": 15
           },
           "zerolinecolor": "white",
           "zerolinewidth": 2
          }
         }
        },
        "title": {
         "text": "Oil Displacement by EVs in Europe (2010–2030)"
        },
        "xaxis": {
         "anchor": "y",
         "domain": [
          0,
          1
         ],
         "title": {
          "text": "Year"
         }
        },
        "yaxis": {
         "anchor": "x",
         "domain": [
          0,
          1
         ],
         "title": {
          "text": "Oil displacement (million lge)"
         }
        }
       }
      }
     },
     "metadata": {},
     "output_type": "display_data"
    }
   ],
   "source": [
    "# Historical data (2010–2024)\n",
    "df_europe_oil_hist = df[\n",
    "    (df['unit'] == 'Oil displacement, million lge') &\n",
    "    (df['region_country'] == 'Europe') &\n",
    "    (df['year'] <= 2024)\n",
    "].copy()\n",
    "df_europe_oil_hist['Type'] = 'Historical'\n",
    "\n",
    "# Projected data (2025–2030)\n",
    "df_europe_oil_proj = df[\n",
    "    (df['unit'] == 'Oil displacement, million lge') &\n",
    "    (df['region_country'] == 'Europe') &\n",
    "    (df['category'] == 'Projection-STEPS') &\n",
    "    (df['year'] > 2024) & (df['year'] <= 2030)\n",
    "].copy()\n",
    "df_europe_oil_proj['Type'] = 'Projected'\n",
    "\n",
    "# Combine both\n",
    "df_oil_combined = pd.concat([df_europe_oil_hist, df_europe_oil_proj])\n",
    "\n",
    "# Group by year + type (summing values)\n",
    "df_oil_combined = df_oil_combined.groupby(['year', 'Type'])['value'].sum().reset_index()\n",
    "\n",
    "# Plot stacked area chart\n",
    "fig = px.area(\n",
    "    df_oil_combined,\n",
    "    x='year',\n",
    "    y='value',\n",
    "    color='Type',\n",
    "    title='Oil Displacement by EVs in Europe (2010–2030)',\n",
    "    labels={'value': 'Oil displacement (million lge)', 'year': 'Year'},\n",
    "    color_discrete_map={'Historical': '#1f77b4', 'Projected': '#ff7f0e'}\n",
    ")\n",
    "\n",
    "fig.update_traces(mode='lines+markers')\n",
    "fig.show()\n"
   ]
  }
 ],
 "metadata": {
  "kernelspec": {
   "display_name": "base",
   "language": "python",
   "name": "python3"
  },
  "language_info": {
   "codemirror_mode": {
    "name": "ipython",
    "version": 3
   },
   "file_extension": ".py",
   "mimetype": "text/x-python",
   "name": "python",
   "nbconvert_exporter": "python",
   "pygments_lexer": "ipython3",
   "version": "3.12.7"
  }
 },
 "nbformat": 4,
 "nbformat_minor": 5
}
